{
  "nbformat": 4,
  "nbformat_minor": 0,
  "metadata": {
    "colab": {
      "name": "nba_data_analysis_using_pandas.ipynb",
      "provenance": [],
      "collapsed_sections": []
    },
    "kernelspec": {
      "name": "python3",
      "display_name": "Python 3"
    },
    "language_info": {
      "name": "python"
    }
  },
  "cells": [
    {
      "cell_type": "code",
      "metadata": {
        "colab": {
          "base_uri": "https://localhost:8080/",
          "height": 0
        },
        "id": "B2mr-VrqmbRV",
        "outputId": "9b59061a-1d95-4971-8c4a-f205ebe0b20c"
      },
      "source": [
        "pd.to_datetime('today')"
      ],
      "execution_count": 115,
      "outputs": [
        {
          "output_type": "execute_result",
          "data": {
            "text/plain": [
              "Timestamp('2021-04-13 14:17:13.825035')"
            ]
          },
          "metadata": {
            "tags": []
          },
          "execution_count": 115
        }
      ]
    },
    {
      "cell_type": "markdown",
      "metadata": {
        "id": "Z67VChhuBlD9"
      },
      "source": [
        "# AMI23B – Business Intelligence Lab1"
      ]
    },
    {
      "cell_type": "markdown",
      "metadata": {
        "id": "6RZv9AYEBxzw"
      },
      "source": [
        "## Using Pandas to Explore a Dataset"
      ]
    },
    {
      "cell_type": "markdown",
      "metadata": {
        "id": "XOBIqkCdBsgk"
      },
      "source": [
        "### Task1: Setting up the environment\n",
        "Using colab, with all the dependencies already installed."
      ]
    },
    {
      "cell_type": "markdown",
      "metadata": {
        "id": "58t8lwLyCqvK"
      },
      "source": [
        "### Task2: Using the Pandas Python Library"
      ]
    },
    {
      "cell_type": "markdown",
      "metadata": {
        "id": "ltWMhhH9DLdP"
      },
      "source": [
        "#### 2.1) Create a download script download_nba_all_elo.py to download the data"
      ]
    },
    {
      "cell_type": "code",
      "metadata": {
        "colab": {
          "base_uri": "https://localhost:8080/",
          "height": 0
        },
        "id": "0y-56-z7tCyg",
        "outputId": "1f0eb3c6-8507-4d35-8a27-43e2a463c6b2"
      },
      "source": [
        "import requests\n",
        "\n",
        "#get the data from a download link\n",
        "download_url = \"https://raw.githubusercontent.com/fivethirtyeight/data/master/nba-elo/nbaallelo.csv\"\n",
        "\n",
        "target_csv_path = \"nba_all_elo.csv\"\n",
        "\n",
        "response = requests.get(download_url)\n",
        "response.raise_for_status() #check that the request was successful\n",
        "\n",
        "#save the file nba_all_elo.csv in your current working directory.\n",
        "with open(target_csv_path, \"wb\") as f:\n",
        "  f.write(response.content)\n",
        "  print(\"download ready\")"
      ],
      "execution_count": 46,
      "outputs": [
        {
          "output_type": "stream",
          "text": [
            "download ready\n"
          ],
          "name": "stdout"
        }
      ]
    },
    {
      "cell_type": "markdown",
      "metadata": {
        "id": "Mw9EYsScDRnC"
      },
      "source": [
        "#### 2.2) Now create a new script lab2_NBA in which you will use the Pandas Python library to take a look at your data"
      ]
    },
    {
      "cell_type": "code",
      "metadata": {
        "colab": {
          "base_uri": "https://localhost:8080/",
          "height": 0
        },
        "id": "FHnBNd-wB_jW",
        "outputId": "259d275f-3738-429b-e147-ccfd8e13d569"
      },
      "source": [
        "#importing Pandas in Python with the pd alias\n",
        "import pandas as pd\n",
        "\n",
        "#read in the dataset and store it as a DataFrame object in the variable nba\n",
        "\n",
        "nba = pd.read_csv(\"nba_all_elo.csv\")\n",
        "\n",
        "#check nba's type, it should be a DataFrame\n",
        "type(nba)"
      ],
      "execution_count": 47,
      "outputs": [
        {
          "output_type": "execute_result",
          "data": {
            "text/plain": [
              "pandas.core.frame.DataFrame"
            ]
          },
          "metadata": {
            "tags": []
          },
          "execution_count": 47
        }
      ]
    },
    {
      "cell_type": "markdown",
      "metadata": {
        "id": "n2uvvGzVDvM3"
      },
      "source": [
        "#### 2.3) Let’s see how much data is actually in nba (report these findings)"
      ]
    },
    {
      "cell_type": "code",
      "metadata": {
        "colab": {
          "base_uri": "https://localhost:8080/",
          "height": 0
        },
        "id": "bXdSA6YZDwZX",
        "outputId": "a1e39ed8-feb0-44d4-f3c5-e75a6320d541"
      },
      "source": [
        "#len() determines the number of rows (observations) in a dataset\n",
        "len(nba)"
      ],
      "execution_count": 3,
      "outputs": [
        {
          "output_type": "execute_result",
          "data": {
            "text/plain": [
              "126314"
            ]
          },
          "metadata": {
            "tags": []
          },
          "execution_count": 3
        }
      ]
    },
    {
      "cell_type": "code",
      "metadata": {
        "colab": {
          "base_uri": "https://localhost:8080/",
          "height": 0
        },
        "id": "BH3dyfc2D-T-",
        "outputId": "4a49aa94-c843-4c5a-9ed1-1017c4d3c710"
      },
      "source": [
        "#.shape determines dimensionality\n",
        "#the result is a tuple containing number of rows and columns\n",
        "nba.shape"
      ],
      "execution_count": 48,
      "outputs": [
        {
          "output_type": "execute_result",
          "data": {
            "text/plain": [
              "(126314, 23)"
            ]
          },
          "metadata": {
            "tags": []
          },
          "execution_count": 48
        }
      ]
    },
    {
      "cell_type": "code",
      "metadata": {
        "colab": {
          "base_uri": "https://localhost:8080/",
          "height": 220
        },
        "id": "3JstsB_IEDS-",
        "outputId": "8a008606-1005-49ab-fb77-a3f5e427fdc0"
      },
      "source": [
        "#take a look at the first five rows to see the actual data\n",
        "nba.head()"
      ],
      "execution_count": 49,
      "outputs": [
        {
          "output_type": "execute_result",
          "data": {
            "text/html": [
              "<div>\n",
              "<style scoped>\n",
              "    .dataframe tbody tr th:only-of-type {\n",
              "        vertical-align: middle;\n",
              "    }\n",
              "\n",
              "    .dataframe tbody tr th {\n",
              "        vertical-align: top;\n",
              "    }\n",
              "\n",
              "    .dataframe thead th {\n",
              "        text-align: right;\n",
              "    }\n",
              "</style>\n",
              "<table border=\"1\" class=\"dataframe\">\n",
              "  <thead>\n",
              "    <tr style=\"text-align: right;\">\n",
              "      <th></th>\n",
              "      <th>gameorder</th>\n",
              "      <th>game_id</th>\n",
              "      <th>lg_id</th>\n",
              "      <th>_iscopy</th>\n",
              "      <th>year_id</th>\n",
              "      <th>date_game</th>\n",
              "      <th>seasongame</th>\n",
              "      <th>is_playoffs</th>\n",
              "      <th>team_id</th>\n",
              "      <th>fran_id</th>\n",
              "      <th>pts</th>\n",
              "      <th>elo_i</th>\n",
              "      <th>elo_n</th>\n",
              "      <th>win_equiv</th>\n",
              "      <th>opp_id</th>\n",
              "      <th>opp_fran</th>\n",
              "      <th>opp_pts</th>\n",
              "      <th>opp_elo_i</th>\n",
              "      <th>opp_elo_n</th>\n",
              "      <th>game_location</th>\n",
              "      <th>game_result</th>\n",
              "      <th>forecast</th>\n",
              "      <th>notes</th>\n",
              "    </tr>\n",
              "  </thead>\n",
              "  <tbody>\n",
              "    <tr>\n",
              "      <th>0</th>\n",
              "      <td>1</td>\n",
              "      <td>194611010TRH</td>\n",
              "      <td>NBA</td>\n",
              "      <td>0</td>\n",
              "      <td>1947</td>\n",
              "      <td>11/1/1946</td>\n",
              "      <td>1</td>\n",
              "      <td>0</td>\n",
              "      <td>TRH</td>\n",
              "      <td>Huskies</td>\n",
              "      <td>66</td>\n",
              "      <td>1300.00</td>\n",
              "      <td>1293.28</td>\n",
              "      <td>40.29</td>\n",
              "      <td>NYK</td>\n",
              "      <td>Knicks</td>\n",
              "      <td>68</td>\n",
              "      <td>1300.00</td>\n",
              "      <td>1306.72</td>\n",
              "      <td>H</td>\n",
              "      <td>L</td>\n",
              "      <td>0.64</td>\n",
              "      <td>NaN</td>\n",
              "    </tr>\n",
              "    <tr>\n",
              "      <th>1</th>\n",
              "      <td>1</td>\n",
              "      <td>194611010TRH</td>\n",
              "      <td>NBA</td>\n",
              "      <td>1</td>\n",
              "      <td>1947</td>\n",
              "      <td>11/1/1946</td>\n",
              "      <td>1</td>\n",
              "      <td>0</td>\n",
              "      <td>NYK</td>\n",
              "      <td>Knicks</td>\n",
              "      <td>68</td>\n",
              "      <td>1300.00</td>\n",
              "      <td>1306.72</td>\n",
              "      <td>41.71</td>\n",
              "      <td>TRH</td>\n",
              "      <td>Huskies</td>\n",
              "      <td>66</td>\n",
              "      <td>1300.00</td>\n",
              "      <td>1293.28</td>\n",
              "      <td>A</td>\n",
              "      <td>W</td>\n",
              "      <td>0.36</td>\n",
              "      <td>NaN</td>\n",
              "    </tr>\n",
              "    <tr>\n",
              "      <th>2</th>\n",
              "      <td>2</td>\n",
              "      <td>194611020CHS</td>\n",
              "      <td>NBA</td>\n",
              "      <td>0</td>\n",
              "      <td>1947</td>\n",
              "      <td>11/2/1946</td>\n",
              "      <td>1</td>\n",
              "      <td>0</td>\n",
              "      <td>CHS</td>\n",
              "      <td>Stags</td>\n",
              "      <td>63</td>\n",
              "      <td>1300.00</td>\n",
              "      <td>1309.65</td>\n",
              "      <td>42.01</td>\n",
              "      <td>NYK</td>\n",
              "      <td>Knicks</td>\n",
              "      <td>47</td>\n",
              "      <td>1306.72</td>\n",
              "      <td>1297.07</td>\n",
              "      <td>H</td>\n",
              "      <td>W</td>\n",
              "      <td>0.63</td>\n",
              "      <td>NaN</td>\n",
              "    </tr>\n",
              "    <tr>\n",
              "      <th>3</th>\n",
              "      <td>2</td>\n",
              "      <td>194611020CHS</td>\n",
              "      <td>NBA</td>\n",
              "      <td>1</td>\n",
              "      <td>1947</td>\n",
              "      <td>11/2/1946</td>\n",
              "      <td>2</td>\n",
              "      <td>0</td>\n",
              "      <td>NYK</td>\n",
              "      <td>Knicks</td>\n",
              "      <td>47</td>\n",
              "      <td>1306.72</td>\n",
              "      <td>1297.07</td>\n",
              "      <td>40.69</td>\n",
              "      <td>CHS</td>\n",
              "      <td>Stags</td>\n",
              "      <td>63</td>\n",
              "      <td>1300.00</td>\n",
              "      <td>1309.65</td>\n",
              "      <td>A</td>\n",
              "      <td>L</td>\n",
              "      <td>0.37</td>\n",
              "      <td>NaN</td>\n",
              "    </tr>\n",
              "    <tr>\n",
              "      <th>4</th>\n",
              "      <td>3</td>\n",
              "      <td>194611020DTF</td>\n",
              "      <td>NBA</td>\n",
              "      <td>0</td>\n",
              "      <td>1947</td>\n",
              "      <td>11/2/1946</td>\n",
              "      <td>1</td>\n",
              "      <td>0</td>\n",
              "      <td>DTF</td>\n",
              "      <td>Falcons</td>\n",
              "      <td>33</td>\n",
              "      <td>1300.00</td>\n",
              "      <td>1279.62</td>\n",
              "      <td>38.86</td>\n",
              "      <td>WSC</td>\n",
              "      <td>Capitols</td>\n",
              "      <td>50</td>\n",
              "      <td>1300.00</td>\n",
              "      <td>1320.38</td>\n",
              "      <td>H</td>\n",
              "      <td>L</td>\n",
              "      <td>0.64</td>\n",
              "      <td>NaN</td>\n",
              "    </tr>\n",
              "  </tbody>\n",
              "</table>\n",
              "</div>"
            ],
            "text/plain": [
              "   gameorder       game_id lg_id  _iscopy  year_id  date_game  seasongame  \\\n",
              "0          1  194611010TRH   NBA        0     1947  11/1/1946           1   \n",
              "1          1  194611010TRH   NBA        1     1947  11/1/1946           1   \n",
              "2          2  194611020CHS   NBA        0     1947  11/2/1946           1   \n",
              "3          2  194611020CHS   NBA        1     1947  11/2/1946           2   \n",
              "4          3  194611020DTF   NBA        0     1947  11/2/1946           1   \n",
              "\n",
              "   is_playoffs team_id  fran_id  pts    elo_i    elo_n  win_equiv opp_id  \\\n",
              "0            0     TRH  Huskies   66  1300.00  1293.28      40.29    NYK   \n",
              "1            0     NYK   Knicks   68  1300.00  1306.72      41.71    TRH   \n",
              "2            0     CHS    Stags   63  1300.00  1309.65      42.01    NYK   \n",
              "3            0     NYK   Knicks   47  1306.72  1297.07      40.69    CHS   \n",
              "4            0     DTF  Falcons   33  1300.00  1279.62      38.86    WSC   \n",
              "\n",
              "   opp_fran  opp_pts  opp_elo_i  opp_elo_n game_location game_result  \\\n",
              "0    Knicks       68    1300.00    1306.72             H           L   \n",
              "1   Huskies       66    1300.00    1293.28             A           W   \n",
              "2    Knicks       47    1306.72    1297.07             H           W   \n",
              "3     Stags       63    1300.00    1309.65             A           L   \n",
              "4  Capitols       50    1300.00    1320.38             H           L   \n",
              "\n",
              "   forecast notes  \n",
              "0      0.64   NaN  \n",
              "1      0.36   NaN  \n",
              "2      0.63   NaN  \n",
              "3      0.37   NaN  \n",
              "4      0.64   NaN  "
            ]
          },
          "metadata": {
            "tags": []
          },
          "execution_count": 49
        }
      ]
    },
    {
      "cell_type": "code",
      "metadata": {
        "id": "t8yIzc2SEMIU"
      },
      "source": [
        "#configure Pandas to display all 23 columns\n",
        "pd.set_option(\"display.max.columns\", None)\n"
      ],
      "execution_count": 50,
      "outputs": []
    },
    {
      "cell_type": "code",
      "metadata": {
        "colab": {
          "base_uri": "https://localhost:8080/",
          "height": 220
        },
        "id": "oabwe5NHETLu",
        "outputId": "7fbde6a3-2412-444a-fc3e-ce4b37d618fd"
      },
      "source": [
        "#show only two decimal places\n",
        "pd.set_option(\"display.precision\", 2)\n",
        "\n",
        "#display last five rows\n",
        "nba.tail()"
      ],
      "execution_count": 51,
      "outputs": [
        {
          "output_type": "execute_result",
          "data": {
            "text/html": [
              "<div>\n",
              "<style scoped>\n",
              "    .dataframe tbody tr th:only-of-type {\n",
              "        vertical-align: middle;\n",
              "    }\n",
              "\n",
              "    .dataframe tbody tr th {\n",
              "        vertical-align: top;\n",
              "    }\n",
              "\n",
              "    .dataframe thead th {\n",
              "        text-align: right;\n",
              "    }\n",
              "</style>\n",
              "<table border=\"1\" class=\"dataframe\">\n",
              "  <thead>\n",
              "    <tr style=\"text-align: right;\">\n",
              "      <th></th>\n",
              "      <th>gameorder</th>\n",
              "      <th>game_id</th>\n",
              "      <th>lg_id</th>\n",
              "      <th>_iscopy</th>\n",
              "      <th>year_id</th>\n",
              "      <th>date_game</th>\n",
              "      <th>seasongame</th>\n",
              "      <th>is_playoffs</th>\n",
              "      <th>team_id</th>\n",
              "      <th>fran_id</th>\n",
              "      <th>pts</th>\n",
              "      <th>elo_i</th>\n",
              "      <th>elo_n</th>\n",
              "      <th>win_equiv</th>\n",
              "      <th>opp_id</th>\n",
              "      <th>opp_fran</th>\n",
              "      <th>opp_pts</th>\n",
              "      <th>opp_elo_i</th>\n",
              "      <th>opp_elo_n</th>\n",
              "      <th>game_location</th>\n",
              "      <th>game_result</th>\n",
              "      <th>forecast</th>\n",
              "      <th>notes</th>\n",
              "    </tr>\n",
              "  </thead>\n",
              "  <tbody>\n",
              "    <tr>\n",
              "      <th>126309</th>\n",
              "      <td>63155</td>\n",
              "      <td>201506110CLE</td>\n",
              "      <td>NBA</td>\n",
              "      <td>0</td>\n",
              "      <td>2015</td>\n",
              "      <td>6/11/2015</td>\n",
              "      <td>100</td>\n",
              "      <td>1</td>\n",
              "      <td>CLE</td>\n",
              "      <td>Cavaliers</td>\n",
              "      <td>82</td>\n",
              "      <td>1723.41</td>\n",
              "      <td>1704.39</td>\n",
              "      <td>60.31</td>\n",
              "      <td>GSW</td>\n",
              "      <td>Warriors</td>\n",
              "      <td>103</td>\n",
              "      <td>1790.96</td>\n",
              "      <td>1809.98</td>\n",
              "      <td>H</td>\n",
              "      <td>L</td>\n",
              "      <td>0.55</td>\n",
              "      <td>NaN</td>\n",
              "    </tr>\n",
              "    <tr>\n",
              "      <th>126310</th>\n",
              "      <td>63156</td>\n",
              "      <td>201506140GSW</td>\n",
              "      <td>NBA</td>\n",
              "      <td>0</td>\n",
              "      <td>2015</td>\n",
              "      <td>6/14/2015</td>\n",
              "      <td>102</td>\n",
              "      <td>1</td>\n",
              "      <td>GSW</td>\n",
              "      <td>Warriors</td>\n",
              "      <td>104</td>\n",
              "      <td>1809.98</td>\n",
              "      <td>1813.63</td>\n",
              "      <td>68.01</td>\n",
              "      <td>CLE</td>\n",
              "      <td>Cavaliers</td>\n",
              "      <td>91</td>\n",
              "      <td>1704.39</td>\n",
              "      <td>1700.74</td>\n",
              "      <td>H</td>\n",
              "      <td>W</td>\n",
              "      <td>0.77</td>\n",
              "      <td>NaN</td>\n",
              "    </tr>\n",
              "    <tr>\n",
              "      <th>126311</th>\n",
              "      <td>63156</td>\n",
              "      <td>201506140GSW</td>\n",
              "      <td>NBA</td>\n",
              "      <td>1</td>\n",
              "      <td>2015</td>\n",
              "      <td>6/14/2015</td>\n",
              "      <td>101</td>\n",
              "      <td>1</td>\n",
              "      <td>CLE</td>\n",
              "      <td>Cavaliers</td>\n",
              "      <td>91</td>\n",
              "      <td>1704.39</td>\n",
              "      <td>1700.74</td>\n",
              "      <td>60.01</td>\n",
              "      <td>GSW</td>\n",
              "      <td>Warriors</td>\n",
              "      <td>104</td>\n",
              "      <td>1809.98</td>\n",
              "      <td>1813.63</td>\n",
              "      <td>A</td>\n",
              "      <td>L</td>\n",
              "      <td>0.23</td>\n",
              "      <td>NaN</td>\n",
              "    </tr>\n",
              "    <tr>\n",
              "      <th>126312</th>\n",
              "      <td>63157</td>\n",
              "      <td>201506170CLE</td>\n",
              "      <td>NBA</td>\n",
              "      <td>0</td>\n",
              "      <td>2015</td>\n",
              "      <td>6/16/2015</td>\n",
              "      <td>102</td>\n",
              "      <td>1</td>\n",
              "      <td>CLE</td>\n",
              "      <td>Cavaliers</td>\n",
              "      <td>97</td>\n",
              "      <td>1700.74</td>\n",
              "      <td>1692.09</td>\n",
              "      <td>59.29</td>\n",
              "      <td>GSW</td>\n",
              "      <td>Warriors</td>\n",
              "      <td>105</td>\n",
              "      <td>1813.63</td>\n",
              "      <td>1822.29</td>\n",
              "      <td>H</td>\n",
              "      <td>L</td>\n",
              "      <td>0.48</td>\n",
              "      <td>NaN</td>\n",
              "    </tr>\n",
              "    <tr>\n",
              "      <th>126313</th>\n",
              "      <td>63157</td>\n",
              "      <td>201506170CLE</td>\n",
              "      <td>NBA</td>\n",
              "      <td>1</td>\n",
              "      <td>2015</td>\n",
              "      <td>6/16/2015</td>\n",
              "      <td>103</td>\n",
              "      <td>1</td>\n",
              "      <td>GSW</td>\n",
              "      <td>Warriors</td>\n",
              "      <td>105</td>\n",
              "      <td>1813.63</td>\n",
              "      <td>1822.29</td>\n",
              "      <td>68.52</td>\n",
              "      <td>CLE</td>\n",
              "      <td>Cavaliers</td>\n",
              "      <td>97</td>\n",
              "      <td>1700.74</td>\n",
              "      <td>1692.09</td>\n",
              "      <td>A</td>\n",
              "      <td>W</td>\n",
              "      <td>0.52</td>\n",
              "      <td>NaN</td>\n",
              "    </tr>\n",
              "  </tbody>\n",
              "</table>\n",
              "</div>"
            ],
            "text/plain": [
              "        gameorder       game_id lg_id  _iscopy  year_id  date_game  \\\n",
              "126309      63155  201506110CLE   NBA        0     2015  6/11/2015   \n",
              "126310      63156  201506140GSW   NBA        0     2015  6/14/2015   \n",
              "126311      63156  201506140GSW   NBA        1     2015  6/14/2015   \n",
              "126312      63157  201506170CLE   NBA        0     2015  6/16/2015   \n",
              "126313      63157  201506170CLE   NBA        1     2015  6/16/2015   \n",
              "\n",
              "        seasongame  is_playoffs team_id    fran_id  pts    elo_i    elo_n  \\\n",
              "126309         100            1     CLE  Cavaliers   82  1723.41  1704.39   \n",
              "126310         102            1     GSW   Warriors  104  1809.98  1813.63   \n",
              "126311         101            1     CLE  Cavaliers   91  1704.39  1700.74   \n",
              "126312         102            1     CLE  Cavaliers   97  1700.74  1692.09   \n",
              "126313         103            1     GSW   Warriors  105  1813.63  1822.29   \n",
              "\n",
              "        win_equiv opp_id   opp_fran  opp_pts  opp_elo_i  opp_elo_n  \\\n",
              "126309      60.31    GSW   Warriors      103    1790.96    1809.98   \n",
              "126310      68.01    CLE  Cavaliers       91    1704.39    1700.74   \n",
              "126311      60.01    GSW   Warriors      104    1809.98    1813.63   \n",
              "126312      59.29    GSW   Warriors      105    1813.63    1822.29   \n",
              "126313      68.52    CLE  Cavaliers       97    1700.74    1692.09   \n",
              "\n",
              "       game_location game_result  forecast notes  \n",
              "126309             H           L      0.55   NaN  \n",
              "126310             H           W      0.77   NaN  \n",
              "126311             A           L      0.23   NaN  \n",
              "126312             H           L      0.48   NaN  \n",
              "126313             A           W      0.52   NaN  "
            ]
          },
          "metadata": {
            "tags": []
          },
          "execution_count": 51
        }
      ]
    },
    {
      "cell_type": "markdown",
      "metadata": {
        "id": "U2JiVpjSHy9e"
      },
      "source": [
        "Question.1: \n",
        "\n",
        "\n",
        "```\n",
        "Display the first 3 rows of your dataset.\n",
        "Remember that the default of nba.head() shows the first 5 rows.\n",
        "```\n",
        "\n"
      ]
    },
    {
      "cell_type": "code",
      "metadata": {
        "colab": {
          "base_uri": "https://localhost:8080/",
          "height": 159
        },
        "id": "1N4MMQzzH8G-",
        "outputId": "06286aa6-ec10-46d5-f9f2-4fd632e1fbe3"
      },
      "source": [
        "nba.head(3)"
      ],
      "execution_count": 4,
      "outputs": [
        {
          "output_type": "execute_result",
          "data": {
            "text/html": [
              "<div>\n",
              "<style scoped>\n",
              "    .dataframe tbody tr th:only-of-type {\n",
              "        vertical-align: middle;\n",
              "    }\n",
              "\n",
              "    .dataframe tbody tr th {\n",
              "        vertical-align: top;\n",
              "    }\n",
              "\n",
              "    .dataframe thead th {\n",
              "        text-align: right;\n",
              "    }\n",
              "</style>\n",
              "<table border=\"1\" class=\"dataframe\">\n",
              "  <thead>\n",
              "    <tr style=\"text-align: right;\">\n",
              "      <th></th>\n",
              "      <th>gameorder</th>\n",
              "      <th>game_id</th>\n",
              "      <th>lg_id</th>\n",
              "      <th>_iscopy</th>\n",
              "      <th>year_id</th>\n",
              "      <th>date_game</th>\n",
              "      <th>seasongame</th>\n",
              "      <th>is_playoffs</th>\n",
              "      <th>team_id</th>\n",
              "      <th>fran_id</th>\n",
              "      <th>pts</th>\n",
              "      <th>elo_i</th>\n",
              "      <th>elo_n</th>\n",
              "      <th>win_equiv</th>\n",
              "      <th>opp_id</th>\n",
              "      <th>opp_fran</th>\n",
              "      <th>opp_pts</th>\n",
              "      <th>opp_elo_i</th>\n",
              "      <th>opp_elo_n</th>\n",
              "      <th>game_location</th>\n",
              "      <th>game_result</th>\n",
              "      <th>forecast</th>\n",
              "      <th>notes</th>\n",
              "    </tr>\n",
              "  </thead>\n",
              "  <tbody>\n",
              "    <tr>\n",
              "      <th>0</th>\n",
              "      <td>1</td>\n",
              "      <td>194611010TRH</td>\n",
              "      <td>NBA</td>\n",
              "      <td>0</td>\n",
              "      <td>1947</td>\n",
              "      <td>11/1/1946</td>\n",
              "      <td>1</td>\n",
              "      <td>0</td>\n",
              "      <td>TRH</td>\n",
              "      <td>Huskies</td>\n",
              "      <td>66.0</td>\n",
              "      <td>1300.0</td>\n",
              "      <td>1293.28</td>\n",
              "      <td>40.29</td>\n",
              "      <td>NYK</td>\n",
              "      <td>Knicks</td>\n",
              "      <td>68.0</td>\n",
              "      <td>1300.00</td>\n",
              "      <td>1306.72</td>\n",
              "      <td>H</td>\n",
              "      <td>L</td>\n",
              "      <td>0.64</td>\n",
              "      <td>NaN</td>\n",
              "    </tr>\n",
              "    <tr>\n",
              "      <th>1</th>\n",
              "      <td>1</td>\n",
              "      <td>194611010TRH</td>\n",
              "      <td>NBA</td>\n",
              "      <td>1</td>\n",
              "      <td>1947</td>\n",
              "      <td>11/1/1946</td>\n",
              "      <td>1</td>\n",
              "      <td>0</td>\n",
              "      <td>NYK</td>\n",
              "      <td>Knicks</td>\n",
              "      <td>68.0</td>\n",
              "      <td>1300.0</td>\n",
              "      <td>1306.72</td>\n",
              "      <td>41.71</td>\n",
              "      <td>TRH</td>\n",
              "      <td>Huskies</td>\n",
              "      <td>66.0</td>\n",
              "      <td>1300.00</td>\n",
              "      <td>1293.28</td>\n",
              "      <td>A</td>\n",
              "      <td>W</td>\n",
              "      <td>0.36</td>\n",
              "      <td>NaN</td>\n",
              "    </tr>\n",
              "    <tr>\n",
              "      <th>2</th>\n",
              "      <td>2</td>\n",
              "      <td>194611020CHS</td>\n",
              "      <td>NBA</td>\n",
              "      <td>0</td>\n",
              "      <td>1947</td>\n",
              "      <td>11/2/1946</td>\n",
              "      <td>1</td>\n",
              "      <td>0</td>\n",
              "      <td>CHS</td>\n",
              "      <td>Stags</td>\n",
              "      <td>63.0</td>\n",
              "      <td>1300.0</td>\n",
              "      <td>1309.65</td>\n",
              "      <td>42.01</td>\n",
              "      <td>NYK</td>\n",
              "      <td>Knicks</td>\n",
              "      <td>47.0</td>\n",
              "      <td>1306.72</td>\n",
              "      <td>1297.07</td>\n",
              "      <td>H</td>\n",
              "      <td>W</td>\n",
              "      <td>0.63</td>\n",
              "      <td>NaN</td>\n",
              "    </tr>\n",
              "  </tbody>\n",
              "</table>\n",
              "</div>"
            ],
            "text/plain": [
              "   gameorder       game_id lg_id  _iscopy  year_id  date_game  seasongame  \\\n",
              "0          1  194611010TRH   NBA        0     1947  11/1/1946           1   \n",
              "1          1  194611010TRH   NBA        1     1947  11/1/1946           1   \n",
              "2          2  194611020CHS   NBA        0     1947  11/2/1946           1   \n",
              "\n",
              "   is_playoffs team_id  fran_id   pts   elo_i    elo_n  win_equiv opp_id  \\\n",
              "0            0     TRH  Huskies  66.0  1300.0  1293.28      40.29    NYK   \n",
              "1            0     NYK   Knicks  68.0  1300.0  1306.72      41.71    TRH   \n",
              "2            0     CHS    Stags  63.0  1300.0  1309.65      42.01    NYK   \n",
              "\n",
              "  opp_fran  opp_pts  opp_elo_i  opp_elo_n game_location game_result  forecast  \\\n",
              "0   Knicks     68.0    1300.00    1306.72             H           L      0.64   \n",
              "1  Huskies     66.0    1300.00    1293.28             A           W      0.36   \n",
              "2   Knicks     47.0    1306.72    1297.07             H           W      0.63   \n",
              "\n",
              "  notes  \n",
              "0   NaN  \n",
              "1   NaN  \n",
              "2   NaN  "
            ]
          },
          "metadata": {
            "tags": []
          },
          "execution_count": 4
        }
      ]
    },
    {
      "cell_type": "markdown",
      "metadata": {
        "id": "wE35f7JpJeGK"
      },
      "source": [
        "### Task3: Get to Know Your Data."
      ]
    },
    {
      "cell_type": "markdown",
      "metadata": {
        "id": "Vbsk1AQ-KF6C"
      },
      "source": [
        "#### 3.1) Discover the different data types your dataset contains."
      ]
    },
    {
      "cell_type": "code",
      "metadata": {
        "colab": {
          "base_uri": "https://localhost:8080/",
          "height": 0
        },
        "id": "HHARSt4OEaK3",
        "outputId": "b1367ebf-05d7-4ed6-e06f-6ca2925e568c"
      },
      "source": [
        "#display all columns and their data types with .info()\n",
        "nba.info()"
      ],
      "execution_count": 52,
      "outputs": [
        {
          "output_type": "stream",
          "text": [
            "<class 'pandas.core.frame.DataFrame'>\n",
            "RangeIndex: 126314 entries, 0 to 126313\n",
            "Data columns (total 23 columns):\n",
            " #   Column         Non-Null Count   Dtype  \n",
            "---  ------         --------------   -----  \n",
            " 0   gameorder      126314 non-null  int64  \n",
            " 1   game_id        126314 non-null  object \n",
            " 2   lg_id          126314 non-null  object \n",
            " 3   _iscopy        126314 non-null  int64  \n",
            " 4   year_id        126314 non-null  int64  \n",
            " 5   date_game      126314 non-null  object \n",
            " 6   seasongame     126314 non-null  int64  \n",
            " 7   is_playoffs    126314 non-null  int64  \n",
            " 8   team_id        126314 non-null  object \n",
            " 9   fran_id        126314 non-null  object \n",
            " 10  pts            126314 non-null  int64  \n",
            " 11  elo_i          126314 non-null  float64\n",
            " 12  elo_n          126314 non-null  float64\n",
            " 13  win_equiv      126314 non-null  float64\n",
            " 14  opp_id         126314 non-null  object \n",
            " 15  opp_fran       126314 non-null  object \n",
            " 16  opp_pts        126314 non-null  int64  \n",
            " 17  opp_elo_i      126314 non-null  float64\n",
            " 18  opp_elo_n      126314 non-null  float64\n",
            " 19  game_location  126314 non-null  object \n",
            " 20  game_result    126314 non-null  object \n",
            " 21  forecast       126314 non-null  float64\n",
            " 22  notes          5424 non-null    object \n",
            "dtypes: float64(6), int64(7), object(10)\n",
            "memory usage: 22.2+ MB\n"
          ],
          "name": "stdout"
        }
      ]
    },
    {
      "cell_type": "markdown",
      "metadata": {
        "id": "uxLUnPOr_TBG"
      },
      "source": [
        "#### 3.2) Showing basic statistics"
      ]
    },
    {
      "cell_type": "markdown",
      "metadata": {
        "id": "d47nsRyU_TPP"
      },
      "source": [
        "Get an idea of the values each column contains."
      ]
    },
    {
      "cell_type": "code",
      "metadata": {
        "colab": {
          "base_uri": "https://localhost:8080/",
          "height": 311
        },
        "id": "sDHE_hZOMnjc",
        "outputId": "fbd4f0c9-b418-4c47-e1c6-95ff5d5e70b0"
      },
      "source": [
        "#get an idea of the values each column contains\n",
        "# by showing basic descrip\n",
        "nba.describe()"
      ],
      "execution_count": 53,
      "outputs": [
        {
          "output_type": "execute_result",
          "data": {
            "text/html": [
              "<div>\n",
              "<style scoped>\n",
              "    .dataframe tbody tr th:only-of-type {\n",
              "        vertical-align: middle;\n",
              "    }\n",
              "\n",
              "    .dataframe tbody tr th {\n",
              "        vertical-align: top;\n",
              "    }\n",
              "\n",
              "    .dataframe thead th {\n",
              "        text-align: right;\n",
              "    }\n",
              "</style>\n",
              "<table border=\"1\" class=\"dataframe\">\n",
              "  <thead>\n",
              "    <tr style=\"text-align: right;\">\n",
              "      <th></th>\n",
              "      <th>gameorder</th>\n",
              "      <th>_iscopy</th>\n",
              "      <th>year_id</th>\n",
              "      <th>seasongame</th>\n",
              "      <th>is_playoffs</th>\n",
              "      <th>pts</th>\n",
              "      <th>elo_i</th>\n",
              "      <th>elo_n</th>\n",
              "      <th>win_equiv</th>\n",
              "      <th>opp_pts</th>\n",
              "      <th>opp_elo_i</th>\n",
              "      <th>opp_elo_n</th>\n",
              "      <th>forecast</th>\n",
              "    </tr>\n",
              "  </thead>\n",
              "  <tbody>\n",
              "    <tr>\n",
              "      <th>count</th>\n",
              "      <td>126314.00</td>\n",
              "      <td>126314.0</td>\n",
              "      <td>126314.00</td>\n",
              "      <td>126314.00</td>\n",
              "      <td>126314.00</td>\n",
              "      <td>126314.00</td>\n",
              "      <td>126314.00</td>\n",
              "      <td>126314.00</td>\n",
              "      <td>126314.00</td>\n",
              "      <td>126314.00</td>\n",
              "      <td>126314.00</td>\n",
              "      <td>126314.00</td>\n",
              "      <td>126314.00</td>\n",
              "    </tr>\n",
              "    <tr>\n",
              "      <th>mean</th>\n",
              "      <td>31579.00</td>\n",
              "      <td>0.5</td>\n",
              "      <td>1988.20</td>\n",
              "      <td>43.53</td>\n",
              "      <td>0.06</td>\n",
              "      <td>102.73</td>\n",
              "      <td>1495.24</td>\n",
              "      <td>1495.24</td>\n",
              "      <td>41.71</td>\n",
              "      <td>102.73</td>\n",
              "      <td>1495.24</td>\n",
              "      <td>1495.24</td>\n",
              "      <td>0.50</td>\n",
              "    </tr>\n",
              "    <tr>\n",
              "      <th>std</th>\n",
              "      <td>18231.93</td>\n",
              "      <td>0.5</td>\n",
              "      <td>17.58</td>\n",
              "      <td>25.38</td>\n",
              "      <td>0.24</td>\n",
              "      <td>14.81</td>\n",
              "      <td>112.14</td>\n",
              "      <td>112.46</td>\n",
              "      <td>10.63</td>\n",
              "      <td>14.81</td>\n",
              "      <td>112.14</td>\n",
              "      <td>112.46</td>\n",
              "      <td>0.22</td>\n",
              "    </tr>\n",
              "    <tr>\n",
              "      <th>min</th>\n",
              "      <td>1.00</td>\n",
              "      <td>0.0</td>\n",
              "      <td>1947.00</td>\n",
              "      <td>1.00</td>\n",
              "      <td>0.00</td>\n",
              "      <td>0.00</td>\n",
              "      <td>1091.64</td>\n",
              "      <td>1085.77</td>\n",
              "      <td>10.15</td>\n",
              "      <td>0.00</td>\n",
              "      <td>1091.64</td>\n",
              "      <td>1085.77</td>\n",
              "      <td>0.02</td>\n",
              "    </tr>\n",
              "    <tr>\n",
              "      <th>25%</th>\n",
              "      <td>15790.00</td>\n",
              "      <td>0.0</td>\n",
              "      <td>1975.00</td>\n",
              "      <td>22.00</td>\n",
              "      <td>0.00</td>\n",
              "      <td>93.00</td>\n",
              "      <td>1417.24</td>\n",
              "      <td>1416.99</td>\n",
              "      <td>34.10</td>\n",
              "      <td>93.00</td>\n",
              "      <td>1417.24</td>\n",
              "      <td>1416.99</td>\n",
              "      <td>0.33</td>\n",
              "    </tr>\n",
              "    <tr>\n",
              "      <th>50%</th>\n",
              "      <td>31579.00</td>\n",
              "      <td>0.5</td>\n",
              "      <td>1990.00</td>\n",
              "      <td>43.00</td>\n",
              "      <td>0.00</td>\n",
              "      <td>103.00</td>\n",
              "      <td>1500.95</td>\n",
              "      <td>1500.95</td>\n",
              "      <td>42.11</td>\n",
              "      <td>103.00</td>\n",
              "      <td>1500.95</td>\n",
              "      <td>1500.95</td>\n",
              "      <td>0.50</td>\n",
              "    </tr>\n",
              "    <tr>\n",
              "      <th>75%</th>\n",
              "      <td>47368.00</td>\n",
              "      <td>1.0</td>\n",
              "      <td>2003.00</td>\n",
              "      <td>65.00</td>\n",
              "      <td>0.00</td>\n",
              "      <td>112.00</td>\n",
              "      <td>1576.06</td>\n",
              "      <td>1576.29</td>\n",
              "      <td>49.64</td>\n",
              "      <td>112.00</td>\n",
              "      <td>1576.06</td>\n",
              "      <td>1576.29</td>\n",
              "      <td>0.67</td>\n",
              "    </tr>\n",
              "    <tr>\n",
              "      <th>max</th>\n",
              "      <td>63157.00</td>\n",
              "      <td>1.0</td>\n",
              "      <td>2015.00</td>\n",
              "      <td>108.00</td>\n",
              "      <td>1.00</td>\n",
              "      <td>186.00</td>\n",
              "      <td>1853.10</td>\n",
              "      <td>1853.10</td>\n",
              "      <td>71.11</td>\n",
              "      <td>186.00</td>\n",
              "      <td>1853.10</td>\n",
              "      <td>1853.10</td>\n",
              "      <td>0.98</td>\n",
              "    </tr>\n",
              "  </tbody>\n",
              "</table>\n",
              "</div>"
            ],
            "text/plain": [
              "       gameorder   _iscopy    year_id  seasongame  is_playoffs        pts  \\\n",
              "count  126314.00  126314.0  126314.00   126314.00    126314.00  126314.00   \n",
              "mean    31579.00       0.5    1988.20       43.53         0.06     102.73   \n",
              "std     18231.93       0.5      17.58       25.38         0.24      14.81   \n",
              "min         1.00       0.0    1947.00        1.00         0.00       0.00   \n",
              "25%     15790.00       0.0    1975.00       22.00         0.00      93.00   \n",
              "50%     31579.00       0.5    1990.00       43.00         0.00     103.00   \n",
              "75%     47368.00       1.0    2003.00       65.00         0.00     112.00   \n",
              "max     63157.00       1.0    2015.00      108.00         1.00     186.00   \n",
              "\n",
              "           elo_i      elo_n  win_equiv    opp_pts  opp_elo_i  opp_elo_n  \\\n",
              "count  126314.00  126314.00  126314.00  126314.00  126314.00  126314.00   \n",
              "mean     1495.24    1495.24      41.71     102.73    1495.24    1495.24   \n",
              "std       112.14     112.46      10.63      14.81     112.14     112.46   \n",
              "min      1091.64    1085.77      10.15       0.00    1091.64    1085.77   \n",
              "25%      1417.24    1416.99      34.10      93.00    1417.24    1416.99   \n",
              "50%      1500.95    1500.95      42.11     103.00    1500.95    1500.95   \n",
              "75%      1576.06    1576.29      49.64     112.00    1576.06    1576.29   \n",
              "max      1853.10    1853.10      71.11     186.00    1853.10    1853.10   \n",
              "\n",
              "        forecast  \n",
              "count  126314.00  \n",
              "mean        0.50  \n",
              "std         0.22  \n",
              "min         0.02  \n",
              "25%         0.33  \n",
              "50%         0.50  \n",
              "75%         0.67  \n",
              "max         0.98  "
            ]
          },
          "metadata": {
            "tags": []
          },
          "execution_count": 53
        }
      ]
    },
    {
      "cell_type": "code",
      "metadata": {
        "colab": {
          "base_uri": "https://localhost:8080/",
          "height": 170
        },
        "id": "YwLUb6SADpey",
        "outputId": "bbaf7f12-03aa-4b0d-e856-b82518b1fbca"
      },
      "source": [
        "# provide other data types by using the include parameter\n",
        "import numpy as np\n",
        "\n",
        "nba.describe(include=np.object)"
      ],
      "execution_count": 54,
      "outputs": [
        {
          "output_type": "execute_result",
          "data": {
            "text/html": [
              "<div>\n",
              "<style scoped>\n",
              "    .dataframe tbody tr th:only-of-type {\n",
              "        vertical-align: middle;\n",
              "    }\n",
              "\n",
              "    .dataframe tbody tr th {\n",
              "        vertical-align: top;\n",
              "    }\n",
              "\n",
              "    .dataframe thead th {\n",
              "        text-align: right;\n",
              "    }\n",
              "</style>\n",
              "<table border=\"1\" class=\"dataframe\">\n",
              "  <thead>\n",
              "    <tr style=\"text-align: right;\">\n",
              "      <th></th>\n",
              "      <th>game_id</th>\n",
              "      <th>lg_id</th>\n",
              "      <th>date_game</th>\n",
              "      <th>team_id</th>\n",
              "      <th>fran_id</th>\n",
              "      <th>opp_id</th>\n",
              "      <th>opp_fran</th>\n",
              "      <th>game_location</th>\n",
              "      <th>game_result</th>\n",
              "      <th>notes</th>\n",
              "    </tr>\n",
              "  </thead>\n",
              "  <tbody>\n",
              "    <tr>\n",
              "      <th>count</th>\n",
              "      <td>126314</td>\n",
              "      <td>126314</td>\n",
              "      <td>126314</td>\n",
              "      <td>126314</td>\n",
              "      <td>126314</td>\n",
              "      <td>126314</td>\n",
              "      <td>126314</td>\n",
              "      <td>126314</td>\n",
              "      <td>126314</td>\n",
              "      <td>5424</td>\n",
              "    </tr>\n",
              "    <tr>\n",
              "      <th>unique</th>\n",
              "      <td>63157</td>\n",
              "      <td>2</td>\n",
              "      <td>12426</td>\n",
              "      <td>104</td>\n",
              "      <td>53</td>\n",
              "      <td>104</td>\n",
              "      <td>53</td>\n",
              "      <td>3</td>\n",
              "      <td>2</td>\n",
              "      <td>231</td>\n",
              "    </tr>\n",
              "    <tr>\n",
              "      <th>top</th>\n",
              "      <td>198204160ATL</td>\n",
              "      <td>NBA</td>\n",
              "      <td>4/13/2011</td>\n",
              "      <td>BOS</td>\n",
              "      <td>Lakers</td>\n",
              "      <td>BOS</td>\n",
              "      <td>Lakers</td>\n",
              "      <td>A</td>\n",
              "      <td>W</td>\n",
              "      <td>at New York NY</td>\n",
              "    </tr>\n",
              "    <tr>\n",
              "      <th>freq</th>\n",
              "      <td>2</td>\n",
              "      <td>118016</td>\n",
              "      <td>30</td>\n",
              "      <td>5997</td>\n",
              "      <td>6024</td>\n",
              "      <td>5997</td>\n",
              "      <td>6024</td>\n",
              "      <td>63138</td>\n",
              "      <td>63157</td>\n",
              "      <td>440</td>\n",
              "    </tr>\n",
              "  </tbody>\n",
              "</table>\n",
              "</div>"
            ],
            "text/plain": [
              "             game_id   lg_id  date_game team_id fran_id  opp_id opp_fran  \\\n",
              "count         126314  126314     126314  126314  126314  126314   126314   \n",
              "unique         63157       2      12426     104      53     104       53   \n",
              "top     198204160ATL     NBA  4/13/2011     BOS  Lakers     BOS   Lakers   \n",
              "freq               2  118016         30    5997    6024    5997     6024   \n",
              "\n",
              "       game_location game_result           notes  \n",
              "count         126314      126314            5424  \n",
              "unique             3           2             231  \n",
              "top                A           W  at New York NY  \n",
              "freq           63138       63157             440  "
            ]
          },
          "metadata": {
            "tags": []
          },
          "execution_count": 54
        }
      ]
    },
    {
      "cell_type": "markdown",
      "metadata": {
        "id": "K3Un-6BbAITT"
      },
      "source": [
        "Question.2:\n",
        "\n",
        "```\n",
        "Take a look at the team_id and fran_id (franchise) columns, what observations can you make at this point (i.e. do you see anything strange here)?\n",
        "```\n",
        "\n"
      ]
    },
    {
      "cell_type": "markdown",
      "metadata": {
        "id": "Z9U_sDd_B5qe"
      },
      "source": [
        "At first sight, it appears that team and franchise do not match: the dataset contains almost twice as many unique team IDs (104) as unique franchise IDs (53). This is surprising, we would have expected to have same number for both sides. Additionally, the most common ID is BOS for team, Lakers for franchise.\n",
        "This requires deeper exploration."
      ]
    },
    {
      "cell_type": "markdown",
      "metadata": {
        "id": "CURt1aJXDnE-"
      },
      "source": [
        "#### 3.3) Exploring the dataset"
      ]
    },
    {
      "cell_type": "markdown",
      "metadata": {
        "id": "6JipIBoHDq3V"
      },
      "source": [
        "Exploratory data analysis helps answer questions about your dataset, for example, exploring how often specific values occur in a column. Let’s take a look at the two columns team_id and fran_id."
      ]
    },
    {
      "cell_type": "code",
      "metadata": {
        "colab": {
          "base_uri": "https://localhost:8080/",
          "height": 0
        },
        "id": "AKoMXO6mAI-p",
        "outputId": "e9bb3127-adc3-4782-bc54-a12b19d53d89"
      },
      "source": [
        "nba[\"team_id\"].value_counts()"
      ],
      "execution_count": 55,
      "outputs": [
        {
          "output_type": "execute_result",
          "data": {
            "text/plain": [
              "BOS    5997\n",
              "NYK    5769\n",
              "LAL    5078\n",
              "DET    4985\n",
              "PHI    4533\n",
              "       ... \n",
              "PIT      60\n",
              "INJ      60\n",
              "DTF      60\n",
              "TRH      60\n",
              "SDS      11\n",
              "Name: team_id, Length: 104, dtype: int64"
            ]
          },
          "metadata": {
            "tags": []
          },
          "execution_count": 55
        }
      ]
    },
    {
      "cell_type": "code",
      "metadata": {
        "colab": {
          "base_uri": "https://localhost:8080/",
          "height": 0
        },
        "id": "ZaCSz_SHA3pv",
        "outputId": "46a11da8-3b12-4778-e40c-4d24e6f730c0"
      },
      "source": [
        "nba[\"fran_id\"].value_counts()"
      ],
      "execution_count": 56,
      "outputs": [
        {
          "output_type": "execute_result",
          "data": {
            "text/plain": [
              "Lakers          6024\n",
              "Celtics         5997\n",
              "Knicks          5769\n",
              "Warriors        5657\n",
              "Pistons         5650\n",
              "Sixers          5644\n",
              "Hawks           5572\n",
              "Kings           5475\n",
              "Wizards         4582\n",
              "Spurs           4309\n",
              "Bulls           4307\n",
              "Pacers          4227\n",
              "Thunder         4178\n",
              "Rockets         4154\n",
              "Nuggets         4120\n",
              "Nets            4106\n",
              "Suns            4080\n",
              "Bucks           4034\n",
              "Trailblazers    3870\n",
              "Cavaliers       3810\n",
              "Clippers        3733\n",
              "Jazz            3555\n",
              "Mavericks       3013\n",
              "Heat            2371\n",
              "Pelicans        2254\n",
              "Magic           2207\n",
              "Timberwolves    2131\n",
              "Grizzlies       1657\n",
              "Raptors         1634\n",
              "Hornets          894\n",
              "Colonels         846\n",
              "Squires          799\n",
              "Spirits          777\n",
              "Stars            756\n",
              "Sounds           697\n",
              "Baltimore        467\n",
              "Floridians       440\n",
              "Condors          430\n",
              "Capitols         291\n",
              "Olympians        282\n",
              "Sails            274\n",
              "Stags            260\n",
              "Bombers          249\n",
              "Steamrollers     168\n",
              "Packers           72\n",
              "Redskins          65\n",
              "Rebels            63\n",
              "Denver            62\n",
              "Waterloo          62\n",
              "Huskies           60\n",
              "Falcons           60\n",
              "Ironmen           60\n",
              "Jets              60\n",
              "Name: fran_id, dtype: int64"
            ]
          },
          "metadata": {
            "tags": []
          },
          "execution_count": 56
        }
      ]
    },
    {
      "cell_type": "markdown",
      "metadata": {
        "id": "1f5NNSdhBS6j"
      },
      "source": [
        "It seems that a team named \"Lakers\" played 6024 games, but only 5078 of those were played by the Los Angeles Lakers. To find out who the other “Lakers” team is execute the following line of code"
      ]
    },
    {
      "cell_type": "code",
      "metadata": {
        "colab": {
          "base_uri": "https://localhost:8080/",
          "height": 0
        },
        "id": "pLOvJ2u1-bsl",
        "outputId": "7640956e-ad8e-4c89-ebbe-05717c1f4e20"
      },
      "source": [
        "nba.loc[nba[\"fran_id\"] == \"Lakers\", \"team_id\"].value_counts()"
      ],
      "execution_count": 57,
      "outputs": [
        {
          "output_type": "execute_result",
          "data": {
            "text/plain": [
              "LAL    5078\n",
              "MNL     946\n",
              "Name: team_id, dtype: int64"
            ]
          },
          "metadata": {
            "tags": []
          },
          "execution_count": 57
        }
      ]
    },
    {
      "cell_type": "markdown",
      "metadata": {
        "id": "4EpG5dq_EwOn"
      },
      "source": [
        "pandas.DataFrame.loc is used to access a group of rows and columns by label(s) or a boolean array.\n",
        "The output shows that the Minneapolis Lakers (\"MNL\") played the other 946 games. Let’s find out when they played those games:"
      ]
    },
    {
      "cell_type": "code",
      "metadata": {
        "colab": {
          "base_uri": "https://localhost:8080/",
          "height": 35
        },
        "id": "fypUdXj2CppQ",
        "outputId": "086c5a9b-10cd-4f50-d349-9691336283e2"
      },
      "source": [
        "#Find out when they played those games\n",
        "nba.loc[nba[\"team_id\"] == \"MNL\", \"date_game\"].min()\n",
        "#aggregate the two functions"
      ],
      "execution_count": 58,
      "outputs": [
        {
          "output_type": "execute_result",
          "data": {
            "application/vnd.google.colaboratory.intrinsic+json": {
              "type": "string"
            },
            "text/plain": [
              "'1/1/1949'"
            ]
          },
          "metadata": {
            "tags": []
          },
          "execution_count": 58
        }
      ]
    },
    {
      "cell_type": "code",
      "metadata": {
        "colab": {
          "base_uri": "https://localhost:8080/",
          "height": 35
        },
        "id": "UCntwnNtGFiJ",
        "outputId": "07b87f65-ff26-4fdc-f42e-32193457ef56"
      },
      "source": [
        "nba.loc[nba[\"team_id\"] == \"MNL\", \"date_game\"].max()"
      ],
      "execution_count": 59,
      "outputs": [
        {
          "output_type": "execute_result",
          "data": {
            "application/vnd.google.colaboratory.intrinsic+json": {
              "type": "string"
            },
            "text/plain": [
              "'4/9/1959'"
            ]
          },
          "metadata": {
            "tags": []
          },
          "execution_count": 59
        }
      ]
    },
    {
      "cell_type": "code",
      "metadata": {
        "colab": {
          "base_uri": "https://localhost:8080/",
          "height": 0
        },
        "id": "7dtiMXxDGHM9",
        "outputId": "b578f754-8e28-45b9-ba34-8bfa2bfcccf3"
      },
      "source": [
        "nba.loc[nba[\"team_id\"] == \"MNL\", \"date_game\"].agg((\"min\", \"max\")) "
      ],
      "execution_count": 60,
      "outputs": [
        {
          "output_type": "execute_result",
          "data": {
            "text/plain": [
              "min    1/1/1949\n",
              "max    4/9/1959\n",
              "Name: date_game, dtype: object"
            ]
          },
          "metadata": {
            "tags": []
          },
          "execution_count": 60
        }
      ]
    },
    {
      "cell_type": "markdown",
      "metadata": {
        "id": "wjVUMYEGHEH8"
      },
      "source": [
        "It looks like the Minneapolis Lakers played between the years of 1949 and 1959. That explains why you might not recognize this team!"
      ]
    },
    {
      "cell_type": "markdown",
      "metadata": {
        "id": "omwIydyCFBjG"
      },
      "source": [
        "Question.3 (report your answer):\n",
        "\n",
        "```\n",
        "Find out how many wins and losses the Minneapolis Lakers had, also find how many points they scored during the matches contained in the dataset.\n",
        "```\n",
        "\n"
      ]
    },
    {
      "cell_type": "code",
      "metadata": {
        "colab": {
          "base_uri": "https://localhost:8080/",
          "height": 0
        },
        "id": "6meM1T2ME8Er",
        "outputId": "2a6fa29a-b701-4492-be64-a1641afaef2f"
      },
      "source": [
        "nba.loc[nba[\"team_id\"] == \"MNL\", \"game_result\"].value_counts()"
      ],
      "execution_count": 61,
      "outputs": [
        {
          "output_type": "execute_result",
          "data": {
            "text/plain": [
              "W    524\n",
              "L    422\n",
              "Name: game_result, dtype: int64"
            ]
          },
          "metadata": {
            "tags": []
          },
          "execution_count": 61
        }
      ]
    },
    {
      "cell_type": "markdown",
      "metadata": {
        "id": "CCjqCq9MIKG4"
      },
      "source": [
        "Minneapolis Lakers won 524 times, lost 422 times (between 1949 and 1959)."
      ]
    },
    {
      "cell_type": "code",
      "metadata": {
        "colab": {
          "base_uri": "https://localhost:8080/",
          "height": 0
        },
        "id": "WMVRMYXiH45J",
        "outputId": "6b2c73ae-7dc5-4862-dcbd-a30d53a29924"
      },
      "source": [
        "mnl_scores = nba.loc[nba[\"team_id\"] == \"MNL\", \"pts\"].value_counts()\n",
        "\n",
        "mnl_scores.tail(3)"
      ],
      "execution_count": 62,
      "outputs": [
        {
          "output_type": "execute_result",
          "data": {
            "text/plain": [
              "125    1\n",
              "127    1\n",
              "18     1\n",
              "Name: pts, dtype: int64"
            ]
          },
          "metadata": {
            "tags": []
          },
          "execution_count": 62
        }
      ]
    },
    {
      "cell_type": "code",
      "metadata": {
        "colab": {
          "base_uri": "https://localhost:8080/",
          "height": 0
        },
        "id": "9VRSx4nVUC2f",
        "outputId": "47657a36-f053-4e35-888a-71a695e52277"
      },
      "source": [
        "mnl_scores.shape"
      ],
      "execution_count": 63,
      "outputs": [
        {
          "output_type": "execute_result",
          "data": {
            "text/plain": [
              "(81,)"
            ]
          },
          "metadata": {
            "tags": []
          },
          "execution_count": 63
        }
      ]
    },
    {
      "cell_type": "code",
      "metadata": {
        "colab": {
          "base_uri": "https://localhost:8080/",
          "height": 0
        },
        "id": "Runm52M0aokh",
        "outputId": "aff42693-26b2-4109-df1e-383d5a2bbd33"
      },
      "source": [
        "# total pts over all MNL match\n",
        "nba.loc[nba[\"team_id\"] == \"MNL\", \"pts\"].sum()"
      ],
      "execution_count": 64,
      "outputs": [
        {
          "output_type": "execute_result",
          "data": {
            "text/plain": [
              "88229"
            ]
          },
          "metadata": {
            "tags": []
          },
          "execution_count": 64
        }
      ]
    },
    {
      "cell_type": "markdown",
      "metadata": {
        "id": "El8P4X7zbiPZ"
      },
      "source": [
        "Minneapolis Lakers have scored 626484 points during all matches contained in this dataset."
      ]
    },
    {
      "cell_type": "code",
      "metadata": {
        "id": "Tnrw5NUVAJCz"
      },
      "source": [
        "# save in csv format\n",
        "mnl_scores.to_csv(\"mnl_scores.csv\")"
      ],
      "execution_count": 24,
      "outputs": []
    },
    {
      "cell_type": "markdown",
      "metadata": {
        "id": "Am_eJ8t4W4NR"
      },
      "source": [
        "Question.4:\n",
        "\n",
        "```\n",
        "ow you understand why the Boston Celtics team \"BOS\" played the most games in the dataset, find out how many points the Boston Celtics have scored during all matches contained in this dataset.\n",
        "```\n",
        "\n"
      ]
    },
    {
      "cell_type": "code",
      "metadata": {
        "colab": {
          "base_uri": "https://localhost:8080/",
          "height": 0
        },
        "id": "-w_R7KPNXAtg",
        "outputId": "af1ea6a1-9078-42b5-c5ca-c95ef54150f3"
      },
      "source": [
        "# total pts over all BOS match\n",
        "nba.loc[nba[\"team_id\"] == \"BOS\", \"pts\"].sum()"
      ],
      "execution_count": 65,
      "outputs": [
        {
          "output_type": "execute_result",
          "data": {
            "text/plain": [
              "626484"
            ]
          },
          "metadata": {
            "tags": []
          },
          "execution_count": 65
        }
      ]
    },
    {
      "cell_type": "markdown",
      "metadata": {
        "id": "nCH5GGgDbY89"
      },
      "source": [
        "Boston Celtics have scored 626484 points during all matches contained in this dataset."
      ]
    },
    {
      "cell_type": "markdown",
      "metadata": {
        "id": "ktMwJNylbS6m"
      },
      "source": [
        "Question.5:\n",
        "\n",
        "```\n",
        "After having explored your dataset, explain your observations from Question.2 in a structured way\n",
        "```\n",
        "\n"
      ]
    },
    {
      "cell_type": "markdown",
      "metadata": {
        "id": "_Q6klNLjcBYm"
      },
      "source": [
        "### Task4: Data access methods (loc and iloc):"
      ]
    },
    {
      "cell_type": "markdown",
      "metadata": {
        "id": "3O5-bhKmcEVc"
      },
      "source": [
        "Check Pandas official docs for these two functions.\n",
        "With data access methods like .loc and .iloc, you can select just the right subset of your DataFrame to help you answer questions about your dataset. .loc uses the label and .iloc the positional index"
      ]
    },
    {
      "cell_type": "markdown",
      "metadata": {
        "id": "Q8dbSi4ocTuj"
      },
      "source": [
        "Question.6 (report your answer):\n",
        "\n",
        "```\n",
        "6.1) Use a data access method to display the 4th row from the bottom of the nba dataset.\n",
        "```\n",
        "\n"
      ]
    },
    {
      "cell_type": "code",
      "metadata": {
        "colab": {
          "base_uri": "https://localhost:8080/",
          "height": 0
        },
        "id": "Yya8blzvO4mC",
        "outputId": "4aa2c1e7-5d87-4cd1-d57c-6cdb024e3cd0"
      },
      "source": [
        "nba.iloc[-4]"
      ],
      "execution_count": 66,
      "outputs": [
        {
          "output_type": "execute_result",
          "data": {
            "text/plain": [
              "gameorder               63156\n",
              "game_id          201506140GSW\n",
              "lg_id                     NBA\n",
              "_iscopy                     0\n",
              "year_id                  2015\n",
              "date_game           6/14/2015\n",
              "seasongame                102\n",
              "is_playoffs                 1\n",
              "team_id                   GSW\n",
              "fran_id              Warriors\n",
              "pts                       104\n",
              "elo_i                 1.8e+03\n",
              "elo_n                 1.8e+03\n",
              "win_equiv                  68\n",
              "opp_id                    CLE\n",
              "opp_fran            Cavaliers\n",
              "opp_pts                    91\n",
              "opp_elo_i             1.7e+03\n",
              "opp_elo_n             1.7e+03\n",
              "game_location               H\n",
              "game_result                 W\n",
              "forecast                 0.77\n",
              "notes                     NaN\n",
              "Name: 126310, dtype: object"
            ]
          },
          "metadata": {
            "tags": []
          },
          "execution_count": 66
        }
      ]
    },
    {
      "cell_type": "markdown",
      "metadata": {
        "id": "6QYShQP-cdKh"
      },
      "source": [
        "\n",
        "\n",
        "```\n",
        "6.2) Use a data access method to display the 2nd row from the top of the nba dataset.\n",
        "```\n",
        "\n",
        "\n",
        "\n"
      ]
    },
    {
      "cell_type": "code",
      "metadata": {
        "colab": {
          "base_uri": "https://localhost:8080/",
          "height": 0
        },
        "id": "Whw-8LaGPY8B",
        "outputId": "48a63233-c9b6-4963-c65b-af210c95a17d"
      },
      "source": [
        "nba.iloc[2]"
      ],
      "execution_count": 67,
      "outputs": [
        {
          "output_type": "execute_result",
          "data": {
            "text/plain": [
              "gameorder                   2\n",
              "game_id          194611020CHS\n",
              "lg_id                     NBA\n",
              "_iscopy                     0\n",
              "year_id                  1947\n",
              "date_game           11/2/1946\n",
              "seasongame                  1\n",
              "is_playoffs                 0\n",
              "team_id                   CHS\n",
              "fran_id                 Stags\n",
              "pts                        63\n",
              "elo_i                 1.3e+03\n",
              "elo_n                 1.3e+03\n",
              "win_equiv                  42\n",
              "opp_id                    NYK\n",
              "opp_fran               Knicks\n",
              "opp_pts                    47\n",
              "opp_elo_i             1.3e+03\n",
              "opp_elo_n             1.3e+03\n",
              "game_location               H\n",
              "game_result                 W\n",
              "forecast                 0.63\n",
              "notes                     NaN\n",
              "Name: 2, dtype: object"
            ]
          },
          "metadata": {
            "tags": []
          },
          "execution_count": 67
        }
      ]
    },
    {
      "cell_type": "markdown",
      "metadata": {
        "id": "ljV0sN5Lcrdi"
      },
      "source": [
        "\n",
        "\n",
        "```\n",
        "6.3) Access all games between the labels 5555 and 5559, you only want to see the names of teams and the scores.\n",
        "```\n",
        "\n"
      ]
    },
    {
      "cell_type": "code",
      "metadata": {
        "colab": {
          "base_uri": "https://localhost:8080/",
          "height": 200
        },
        "id": "yWQF9x31Pt_R",
        "outputId": "a10b5b71-19ae-49b0-e192-3c4e2a292277"
      },
      "source": [
        "nba.loc[5555:5559,[\"team_id\", \"pts\"]]"
      ],
      "execution_count": 68,
      "outputs": [
        {
          "output_type": "execute_result",
          "data": {
            "text/html": [
              "<div>\n",
              "<style scoped>\n",
              "    .dataframe tbody tr th:only-of-type {\n",
              "        vertical-align: middle;\n",
              "    }\n",
              "\n",
              "    .dataframe tbody tr th {\n",
              "        vertical-align: top;\n",
              "    }\n",
              "\n",
              "    .dataframe thead th {\n",
              "        text-align: right;\n",
              "    }\n",
              "</style>\n",
              "<table border=\"1\" class=\"dataframe\">\n",
              "  <thead>\n",
              "    <tr style=\"text-align: right;\">\n",
              "      <th></th>\n",
              "      <th>team_id</th>\n",
              "      <th>pts</th>\n",
              "    </tr>\n",
              "  </thead>\n",
              "  <tbody>\n",
              "    <tr>\n",
              "      <th>5555</th>\n",
              "      <td>FTW</td>\n",
              "      <td>83</td>\n",
              "    </tr>\n",
              "    <tr>\n",
              "      <th>5556</th>\n",
              "      <td>BOS</td>\n",
              "      <td>95</td>\n",
              "    </tr>\n",
              "    <tr>\n",
              "      <th>5557</th>\n",
              "      <td>NYK</td>\n",
              "      <td>74</td>\n",
              "    </tr>\n",
              "    <tr>\n",
              "      <th>5558</th>\n",
              "      <td>ROC</td>\n",
              "      <td>81</td>\n",
              "    </tr>\n",
              "    <tr>\n",
              "      <th>5559</th>\n",
              "      <td>SYR</td>\n",
              "      <td>86</td>\n",
              "    </tr>\n",
              "  </tbody>\n",
              "</table>\n",
              "</div>"
            ],
            "text/plain": [
              "     team_id  pts\n",
              "5555     FTW   83\n",
              "5556     BOS   95\n",
              "5557     NYK   74\n",
              "5558     ROC   81\n",
              "5559     SYR   86"
            ]
          },
          "metadata": {
            "tags": []
          },
          "execution_count": 68
        }
      ]
    },
    {
      "cell_type": "markdown",
      "metadata": {
        "id": "EPRE9lj3cwOl"
      },
      "source": [
        "### Task5: Querying the Dataset"
      ]
    },
    {
      "cell_type": "markdown",
      "metadata": {
        "id": "O57Hr5Idczoa"
      },
      "source": [
        "You have seen how to access subsets of a huge dataset based on its indices, now you will select rows based on the values in your dataset’s columns to query your data."
      ]
    },
    {
      "cell_type": "code",
      "metadata": {
        "colab": {
          "base_uri": "https://localhost:8080/",
          "height": 0
        },
        "id": "ZlVxnHfkcacp",
        "outputId": "ff15446f-45d7-4489-f2c2-2a96f6eb49ae"
      },
      "source": [
        "#create a new DataFrame that contains only games played after 2010\n",
        "current_decade = nba[nba[\"year_id\"] > 2010]\n",
        "current_decade.shape"
      ],
      "execution_count": 79,
      "outputs": [
        {
          "output_type": "execute_result",
          "data": {
            "text/plain": [
              "(12658, 23)"
            ]
          },
          "metadata": {
            "tags": []
          },
          "execution_count": 79
        }
      ]
    },
    {
      "cell_type": "markdown",
      "metadata": {
        "id": "odCkvTwkc_m7"
      },
      "source": [
        "Question.7:"
      ]
    },
    {
      "cell_type": "markdown",
      "metadata": {
        "id": "lfgX9YwUdCXv"
      },
      "source": [
        "\n",
        "\n",
        "```\n",
        "Create a new DataFrame which consists of the games played between 2000 and 2009.\n",
        "```\n",
        "\n"
      ]
    },
    {
      "cell_type": "code",
      "metadata": {
        "colab": {
          "base_uri": "https://localhost:8080/",
          "height": 220
        },
        "id": "D-eZ5PxDTymx",
        "outputId": "53fe6c87-597c-4674-e841-09a99dd9a9f8"
      },
      "source": [
        "df0 = nba.loc[(nba[\"year_id\"] > 2000) & (nba[\"year_id\"] < 2009)]\n",
        "\n",
        "df0.head()"
      ],
      "execution_count": 85,
      "outputs": [
        {
          "output_type": "execute_result",
          "data": {
            "text/html": [
              "<div>\n",
              "<style scoped>\n",
              "    .dataframe tbody tr th:only-of-type {\n",
              "        vertical-align: middle;\n",
              "    }\n",
              "\n",
              "    .dataframe tbody tr th {\n",
              "        vertical-align: top;\n",
              "    }\n",
              "\n",
              "    .dataframe thead th {\n",
              "        text-align: right;\n",
              "    }\n",
              "</style>\n",
              "<table border=\"1\" class=\"dataframe\">\n",
              "  <thead>\n",
              "    <tr style=\"text-align: right;\">\n",
              "      <th></th>\n",
              "      <th>gameorder</th>\n",
              "      <th>game_id</th>\n",
              "      <th>lg_id</th>\n",
              "      <th>_iscopy</th>\n",
              "      <th>year_id</th>\n",
              "      <th>date_game</th>\n",
              "      <th>seasongame</th>\n",
              "      <th>is_playoffs</th>\n",
              "      <th>team_id</th>\n",
              "      <th>fran_id</th>\n",
              "      <th>pts</th>\n",
              "      <th>elo_i</th>\n",
              "      <th>elo_n</th>\n",
              "      <th>win_equiv</th>\n",
              "      <th>opp_id</th>\n",
              "      <th>opp_fran</th>\n",
              "      <th>opp_pts</th>\n",
              "      <th>opp_elo_i</th>\n",
              "      <th>opp_elo_n</th>\n",
              "      <th>game_location</th>\n",
              "      <th>game_result</th>\n",
              "      <th>forecast</th>\n",
              "      <th>notes</th>\n",
              "    </tr>\n",
              "  </thead>\n",
              "  <tbody>\n",
              "    <tr>\n",
              "      <th>87750</th>\n",
              "      <td>43876</td>\n",
              "      <td>200010310ATL</td>\n",
              "      <td>NBA</td>\n",
              "      <td>0</td>\n",
              "      <td>2001</td>\n",
              "      <td>10/31/2000</td>\n",
              "      <td>1</td>\n",
              "      <td>0</td>\n",
              "      <td>ATL</td>\n",
              "      <td>Hawks</td>\n",
              "      <td>82</td>\n",
              "      <td>1366.97</td>\n",
              "      <td>1354.05</td>\n",
              "      <td>26.31</td>\n",
              "      <td>CHH</td>\n",
              "      <td>Pelicans</td>\n",
              "      <td>106</td>\n",
              "      <td>1557.86</td>\n",
              "      <td>1570.78</td>\n",
              "      <td>H</td>\n",
              "      <td>L</td>\n",
              "      <td>0.37</td>\n",
              "      <td>NaN</td>\n",
              "    </tr>\n",
              "    <tr>\n",
              "      <th>87751</th>\n",
              "      <td>43876</td>\n",
              "      <td>200010310ATL</td>\n",
              "      <td>NBA</td>\n",
              "      <td>1</td>\n",
              "      <td>2001</td>\n",
              "      <td>10/31/2000</td>\n",
              "      <td>1</td>\n",
              "      <td>0</td>\n",
              "      <td>CHH</td>\n",
              "      <td>Pelicans</td>\n",
              "      <td>106</td>\n",
              "      <td>1557.86</td>\n",
              "      <td>1570.78</td>\n",
              "      <td>48.29</td>\n",
              "      <td>ATL</td>\n",
              "      <td>Hawks</td>\n",
              "      <td>82</td>\n",
              "      <td>1366.97</td>\n",
              "      <td>1354.05</td>\n",
              "      <td>A</td>\n",
              "      <td>W</td>\n",
              "      <td>0.63</td>\n",
              "      <td>NaN</td>\n",
              "    </tr>\n",
              "    <tr>\n",
              "      <th>87752</th>\n",
              "      <td>43877</td>\n",
              "      <td>200010310CHI</td>\n",
              "      <td>NBA</td>\n",
              "      <td>0</td>\n",
              "      <td>2001</td>\n",
              "      <td>10/31/2000</td>\n",
              "      <td>1</td>\n",
              "      <td>0</td>\n",
              "      <td>CHI</td>\n",
              "      <td>Bulls</td>\n",
              "      <td>81</td>\n",
              "      <td>1326.75</td>\n",
              "      <td>1316.62</td>\n",
              "      <td>23.01</td>\n",
              "      <td>SAC</td>\n",
              "      <td>Kings</td>\n",
              "      <td>100</td>\n",
              "      <td>1535.60</td>\n",
              "      <td>1545.73</td>\n",
              "      <td>H</td>\n",
              "      <td>L</td>\n",
              "      <td>0.35</td>\n",
              "      <td>NaN</td>\n",
              "    </tr>\n",
              "    <tr>\n",
              "      <th>87753</th>\n",
              "      <td>43877</td>\n",
              "      <td>200010310CHI</td>\n",
              "      <td>NBA</td>\n",
              "      <td>1</td>\n",
              "      <td>2001</td>\n",
              "      <td>10/31/2000</td>\n",
              "      <td>1</td>\n",
              "      <td>0</td>\n",
              "      <td>SAC</td>\n",
              "      <td>Kings</td>\n",
              "      <td>100</td>\n",
              "      <td>1535.60</td>\n",
              "      <td>1545.73</td>\n",
              "      <td>45.72</td>\n",
              "      <td>CHI</td>\n",
              "      <td>Bulls</td>\n",
              "      <td>81</td>\n",
              "      <td>1326.75</td>\n",
              "      <td>1316.62</td>\n",
              "      <td>A</td>\n",
              "      <td>W</td>\n",
              "      <td>0.65</td>\n",
              "      <td>NaN</td>\n",
              "    </tr>\n",
              "    <tr>\n",
              "      <th>87754</th>\n",
              "      <td>43878</td>\n",
              "      <td>200010310DAL</td>\n",
              "      <td>NBA</td>\n",
              "      <td>0</td>\n",
              "      <td>2001</td>\n",
              "      <td>10/31/2000</td>\n",
              "      <td>1</td>\n",
              "      <td>0</td>\n",
              "      <td>DAL</td>\n",
              "      <td>Mavericks</td>\n",
              "      <td>97</td>\n",
              "      <td>1541.40</td>\n",
              "      <td>1545.27</td>\n",
              "      <td>45.67</td>\n",
              "      <td>MIL</td>\n",
              "      <td>Bucks</td>\n",
              "      <td>93</td>\n",
              "      <td>1522.68</td>\n",
              "      <td>1518.81</td>\n",
              "      <td>H</td>\n",
              "      <td>W</td>\n",
              "      <td>0.66</td>\n",
              "      <td>NaN</td>\n",
              "    </tr>\n",
              "  </tbody>\n",
              "</table>\n",
              "</div>"
            ],
            "text/plain": [
              "       gameorder       game_id lg_id  _iscopy  year_id   date_game  \\\n",
              "87750      43876  200010310ATL   NBA        0     2001  10/31/2000   \n",
              "87751      43876  200010310ATL   NBA        1     2001  10/31/2000   \n",
              "87752      43877  200010310CHI   NBA        0     2001  10/31/2000   \n",
              "87753      43877  200010310CHI   NBA        1     2001  10/31/2000   \n",
              "87754      43878  200010310DAL   NBA        0     2001  10/31/2000   \n",
              "\n",
              "       seasongame  is_playoffs team_id    fran_id  pts    elo_i    elo_n  \\\n",
              "87750           1            0     ATL      Hawks   82  1366.97  1354.05   \n",
              "87751           1            0     CHH   Pelicans  106  1557.86  1570.78   \n",
              "87752           1            0     CHI      Bulls   81  1326.75  1316.62   \n",
              "87753           1            0     SAC      Kings  100  1535.60  1545.73   \n",
              "87754           1            0     DAL  Mavericks   97  1541.40  1545.27   \n",
              "\n",
              "       win_equiv opp_id  opp_fran  opp_pts  opp_elo_i  opp_elo_n  \\\n",
              "87750      26.31    CHH  Pelicans      106    1557.86    1570.78   \n",
              "87751      48.29    ATL     Hawks       82    1366.97    1354.05   \n",
              "87752      23.01    SAC     Kings      100    1535.60    1545.73   \n",
              "87753      45.72    CHI     Bulls       81    1326.75    1316.62   \n",
              "87754      45.67    MIL     Bucks       93    1522.68    1518.81   \n",
              "\n",
              "      game_location game_result  forecast notes  \n",
              "87750             H           L      0.37   NaN  \n",
              "87751             A           W      0.63   NaN  \n",
              "87752             H           L      0.35   NaN  \n",
              "87753             A           W      0.65   NaN  \n",
              "87754             H           W      0.66   NaN  "
            ]
          },
          "metadata": {
            "tags": []
          },
          "execution_count": 85
        }
      ]
    },
    {
      "cell_type": "code",
      "metadata": {
        "id": "SJtkVSOLUhzk"
      },
      "source": [
        "# save the dataframe into a csv file\n",
        "df0.to_csv(\"df0.csv\")"
      ],
      "execution_count": 86,
      "outputs": []
    },
    {
      "cell_type": "markdown",
      "metadata": {
        "id": "Vhn5LqYzdHdD"
      },
      "source": [
        "Selecting rows where a specific field is not null."
      ]
    },
    {
      "cell_type": "code",
      "metadata": {
        "colab": {
          "base_uri": "https://localhost:8080/",
          "height": 0
        },
        "id": "Y4CoWJvJcPw_",
        "outputId": "f8a24c80-06c0-455d-e08c-c454cf48cf55"
      },
      "source": [
        "#selecting rows where a specific field is not null .notnull() or .notna()\n",
        "games_with_notes = nba[nba[\"notes\"].notnull()]\n",
        "games_with_notes.shape"
      ],
      "execution_count": 87,
      "outputs": [
        {
          "output_type": "execute_result",
          "data": {
            "text/plain": [
              "(5424, 23)"
            ]
          },
          "metadata": {
            "tags": []
          },
          "execution_count": 87
        }
      ]
    },
    {
      "cell_type": "code",
      "metadata": {
        "colab": {
          "base_uri": "https://localhost:8080/",
          "height": 271
        },
        "id": "-4CZTwtLdULC",
        "outputId": "cb1b2477-d3f3-4823-cfec-9282fe350060"
      },
      "source": [
        "#filter your dataset and find all games where the home team’s name ends with \"ers\".\n",
        "ers = nba[nba[\"fran_id\"].str.endswith(\"ers\")]\n",
        "ers.shape\n",
        "\n",
        "#search for Baltimore games where both teams scored over 100 points.\n",
        "#In order to see each game only once, you’ll need to exclude duplicates\n",
        "nba[(nba[\"_iscopy\"] == 0) & (nba[\"pts\"] > 100) & (nba[\"opp_pts\"] > 100) & (nba[\"team_id\"] == \"BLB\")]\n"
      ],
      "execution_count": 88,
      "outputs": [
        {
          "output_type": "execute_result",
          "data": {
            "text/html": [
              "<div>\n",
              "<style scoped>\n",
              "    .dataframe tbody tr th:only-of-type {\n",
              "        vertical-align: middle;\n",
              "    }\n",
              "\n",
              "    .dataframe tbody tr th {\n",
              "        vertical-align: top;\n",
              "    }\n",
              "\n",
              "    .dataframe thead th {\n",
              "        text-align: right;\n",
              "    }\n",
              "</style>\n",
              "<table border=\"1\" class=\"dataframe\">\n",
              "  <thead>\n",
              "    <tr style=\"text-align: right;\">\n",
              "      <th></th>\n",
              "      <th>gameorder</th>\n",
              "      <th>game_id</th>\n",
              "      <th>lg_id</th>\n",
              "      <th>_iscopy</th>\n",
              "      <th>year_id</th>\n",
              "      <th>date_game</th>\n",
              "      <th>seasongame</th>\n",
              "      <th>is_playoffs</th>\n",
              "      <th>team_id</th>\n",
              "      <th>fran_id</th>\n",
              "      <th>pts</th>\n",
              "      <th>elo_i</th>\n",
              "      <th>elo_n</th>\n",
              "      <th>win_equiv</th>\n",
              "      <th>opp_id</th>\n",
              "      <th>opp_fran</th>\n",
              "      <th>opp_pts</th>\n",
              "      <th>opp_elo_i</th>\n",
              "      <th>opp_elo_n</th>\n",
              "      <th>game_location</th>\n",
              "      <th>game_result</th>\n",
              "      <th>forecast</th>\n",
              "      <th>notes</th>\n",
              "    </tr>\n",
              "  </thead>\n",
              "  <tbody>\n",
              "    <tr>\n",
              "      <th>1726</th>\n",
              "      <td>864</td>\n",
              "      <td>194902260BLB</td>\n",
              "      <td>NBA</td>\n",
              "      <td>0</td>\n",
              "      <td>1949</td>\n",
              "      <td>2/26/1949</td>\n",
              "      <td>53</td>\n",
              "      <td>0</td>\n",
              "      <td>BLB</td>\n",
              "      <td>Baltimore</td>\n",
              "      <td>114</td>\n",
              "      <td>1421.94</td>\n",
              "      <td>1419.43</td>\n",
              "      <td>38.56</td>\n",
              "      <td>MNL</td>\n",
              "      <td>Lakers</td>\n",
              "      <td>115</td>\n",
              "      <td>1637.99</td>\n",
              "      <td>1640.49</td>\n",
              "      <td>H</td>\n",
              "      <td>L</td>\n",
              "      <td>0.34</td>\n",
              "      <td>NaN</td>\n",
              "    </tr>\n",
              "    <tr>\n",
              "      <th>4890</th>\n",
              "      <td>2446</td>\n",
              "      <td>195301100BLB</td>\n",
              "      <td>NBA</td>\n",
              "      <td>0</td>\n",
              "      <td>1953</td>\n",
              "      <td>1/10/1953</td>\n",
              "      <td>32</td>\n",
              "      <td>0</td>\n",
              "      <td>BLB</td>\n",
              "      <td>Baltimore</td>\n",
              "      <td>126</td>\n",
              "      <td>1328.67</td>\n",
              "      <td>1356.65</td>\n",
              "      <td>25.80</td>\n",
              "      <td>BOS</td>\n",
              "      <td>Celtics</td>\n",
              "      <td>105</td>\n",
              "      <td>1591.14</td>\n",
              "      <td>1563.17</td>\n",
              "      <td>H</td>\n",
              "      <td>W</td>\n",
              "      <td>0.28</td>\n",
              "      <td>NaN</td>\n",
              "    </tr>\n",
              "    <tr>\n",
              "      <th>4909</th>\n",
              "      <td>2455</td>\n",
              "      <td>195301140BLB</td>\n",
              "      <td>NBA</td>\n",
              "      <td>0</td>\n",
              "      <td>1953</td>\n",
              "      <td>1/14/1953</td>\n",
              "      <td>34</td>\n",
              "      <td>0</td>\n",
              "      <td>BLB</td>\n",
              "      <td>Baltimore</td>\n",
              "      <td>104</td>\n",
              "      <td>1349.83</td>\n",
              "      <td>1346.36</td>\n",
              "      <td>24.88</td>\n",
              "      <td>MNL</td>\n",
              "      <td>Lakers</td>\n",
              "      <td>112</td>\n",
              "      <td>1665.44</td>\n",
              "      <td>1668.91</td>\n",
              "      <td>H</td>\n",
              "      <td>L</td>\n",
              "      <td>0.22</td>\n",
              "      <td>NaN</td>\n",
              "    </tr>\n",
              "    <tr>\n",
              "      <th>5208</th>\n",
              "      <td>2605</td>\n",
              "      <td>195303110BLB</td>\n",
              "      <td>NBA</td>\n",
              "      <td>0</td>\n",
              "      <td>1953</td>\n",
              "      <td>3/11/1953</td>\n",
              "      <td>66</td>\n",
              "      <td>0</td>\n",
              "      <td>BLB</td>\n",
              "      <td>Baltimore</td>\n",
              "      <td>107</td>\n",
              "      <td>1284.52</td>\n",
              "      <td>1282.24</td>\n",
              "      <td>19.58</td>\n",
              "      <td>NYK</td>\n",
              "      <td>Knicks</td>\n",
              "      <td>113</td>\n",
              "      <td>1649.15</td>\n",
              "      <td>1651.44</td>\n",
              "      <td>H</td>\n",
              "      <td>L</td>\n",
              "      <td>0.18</td>\n",
              "      <td>at Boston MA</td>\n",
              "    </tr>\n",
              "    <tr>\n",
              "      <th>5825</th>\n",
              "      <td>2913</td>\n",
              "      <td>195402220BLB</td>\n",
              "      <td>NBA</td>\n",
              "      <td>0</td>\n",
              "      <td>1954</td>\n",
              "      <td>2/22/1954</td>\n",
              "      <td>60</td>\n",
              "      <td>0</td>\n",
              "      <td>BLB</td>\n",
              "      <td>Baltimore</td>\n",
              "      <td>110</td>\n",
              "      <td>1303.75</td>\n",
              "      <td>1301.97</td>\n",
              "      <td>20.74</td>\n",
              "      <td>BOS</td>\n",
              "      <td>Celtics</td>\n",
              "      <td>111</td>\n",
              "      <td>1591.49</td>\n",
              "      <td>1593.27</td>\n",
              "      <td>H</td>\n",
              "      <td>L</td>\n",
              "      <td>0.25</td>\n",
              "      <td>at Worcester MA</td>\n",
              "    </tr>\n",
              "  </tbody>\n",
              "</table>\n",
              "</div>"
            ],
            "text/plain": [
              "      gameorder       game_id lg_id  _iscopy  year_id  date_game  seasongame  \\\n",
              "1726        864  194902260BLB   NBA        0     1949  2/26/1949          53   \n",
              "4890       2446  195301100BLB   NBA        0     1953  1/10/1953          32   \n",
              "4909       2455  195301140BLB   NBA        0     1953  1/14/1953          34   \n",
              "5208       2605  195303110BLB   NBA        0     1953  3/11/1953          66   \n",
              "5825       2913  195402220BLB   NBA        0     1954  2/22/1954          60   \n",
              "\n",
              "      is_playoffs team_id    fran_id  pts    elo_i    elo_n  win_equiv opp_id  \\\n",
              "1726            0     BLB  Baltimore  114  1421.94  1419.43      38.56    MNL   \n",
              "4890            0     BLB  Baltimore  126  1328.67  1356.65      25.80    BOS   \n",
              "4909            0     BLB  Baltimore  104  1349.83  1346.36      24.88    MNL   \n",
              "5208            0     BLB  Baltimore  107  1284.52  1282.24      19.58    NYK   \n",
              "5825            0     BLB  Baltimore  110  1303.75  1301.97      20.74    BOS   \n",
              "\n",
              "     opp_fran  opp_pts  opp_elo_i  opp_elo_n game_location game_result  \\\n",
              "1726   Lakers      115    1637.99    1640.49             H           L   \n",
              "4890  Celtics      105    1591.14    1563.17             H           W   \n",
              "4909   Lakers      112    1665.44    1668.91             H           L   \n",
              "5208   Knicks      113    1649.15    1651.44             H           L   \n",
              "5825  Celtics      111    1591.49    1593.27             H           L   \n",
              "\n",
              "      forecast            notes  \n",
              "1726      0.34              NaN  \n",
              "4890      0.28              NaN  \n",
              "4909      0.22              NaN  \n",
              "5208      0.18     at Boston MA  \n",
              "5825      0.25  at Worcester MA  "
            ]
          },
          "metadata": {
            "tags": []
          },
          "execution_count": 88
        }
      ]
    },
    {
      "cell_type": "markdown",
      "metadata": {
        "id": "BkstgPQ4dhTQ"
      },
      "source": [
        "Question.8:"
      ]
    },
    {
      "cell_type": "markdown",
      "metadata": {
        "id": "S7EWdPH3dj7F"
      },
      "source": [
        "\n",
        "\n",
        "```\n",
        " Filter your dataset and find all the playoffs games where the number of points scored by both home and away is more\n",
        "than 100, in the year 2011 and make sure you don't include duplicates (don't forget the parentheses).\n",
        "```\n",
        "\n"
      ]
    },
    {
      "cell_type": "code",
      "metadata": {
        "colab": {
          "base_uri": "https://localhost:8080/",
          "height": 159
        },
        "id": "wTrdLCW5QefJ",
        "outputId": "08499ea6-42dc-4a36-ae32-388a3ec4153c"
      },
      "source": [
        "df1 = nba[(nba[\"_iscopy\"] == 0) & (nba[\"pts\"] > 100) & (nba[\"opp_pts\"] > 100) & (nba[\"year_id\"] > 2010) & (nba[\"year_id\"] < 2012)]\n",
        "\n",
        "df1.head(3)"
      ],
      "execution_count": 81,
      "outputs": [
        {
          "output_type": "execute_result",
          "data": {
            "text/html": [
              "<div>\n",
              "<style scoped>\n",
              "    .dataframe tbody tr th:only-of-type {\n",
              "        vertical-align: middle;\n",
              "    }\n",
              "\n",
              "    .dataframe tbody tr th {\n",
              "        vertical-align: top;\n",
              "    }\n",
              "\n",
              "    .dataframe thead th {\n",
              "        text-align: right;\n",
              "    }\n",
              "</style>\n",
              "<table border=\"1\" class=\"dataframe\">\n",
              "  <thead>\n",
              "    <tr style=\"text-align: right;\">\n",
              "      <th></th>\n",
              "      <th>gameorder</th>\n",
              "      <th>game_id</th>\n",
              "      <th>lg_id</th>\n",
              "      <th>_iscopy</th>\n",
              "      <th>year_id</th>\n",
              "      <th>date_game</th>\n",
              "      <th>seasongame</th>\n",
              "      <th>is_playoffs</th>\n",
              "      <th>team_id</th>\n",
              "      <th>fran_id</th>\n",
              "      <th>pts</th>\n",
              "      <th>elo_i</th>\n",
              "      <th>elo_n</th>\n",
              "      <th>win_equiv</th>\n",
              "      <th>opp_id</th>\n",
              "      <th>opp_fran</th>\n",
              "      <th>opp_pts</th>\n",
              "      <th>opp_elo_i</th>\n",
              "      <th>opp_elo_n</th>\n",
              "      <th>game_location</th>\n",
              "      <th>game_result</th>\n",
              "      <th>forecast</th>\n",
              "      <th>notes</th>\n",
              "    </tr>\n",
              "  </thead>\n",
              "  <tbody>\n",
              "    <tr>\n",
              "      <th>113659</th>\n",
              "      <td>56830</td>\n",
              "      <td>201010260LAL</td>\n",
              "      <td>NBA</td>\n",
              "      <td>0</td>\n",
              "      <td>2011</td>\n",
              "      <td>10/26/2010</td>\n",
              "      <td>1</td>\n",
              "      <td>0</td>\n",
              "      <td>LAL</td>\n",
              "      <td>Lakers</td>\n",
              "      <td>112</td>\n",
              "      <td>1647.60</td>\n",
              "      <td>1649.20</td>\n",
              "      <td>55.61</td>\n",
              "      <td>HOU</td>\n",
              "      <td>Rockets</td>\n",
              "      <td>110</td>\n",
              "      <td>1504.20</td>\n",
              "      <td>1502.60</td>\n",
              "      <td>H</td>\n",
              "      <td>W</td>\n",
              "      <td>0.80</td>\n",
              "      <td>NaN</td>\n",
              "    </tr>\n",
              "    <tr>\n",
              "      <th>113668</th>\n",
              "      <td>56835</td>\n",
              "      <td>201010270GSW</td>\n",
              "      <td>NBA</td>\n",
              "      <td>0</td>\n",
              "      <td>2011</td>\n",
              "      <td>10/27/2010</td>\n",
              "      <td>1</td>\n",
              "      <td>0</td>\n",
              "      <td>GSW</td>\n",
              "      <td>Warriors</td>\n",
              "      <td>132</td>\n",
              "      <td>1432.78</td>\n",
              "      <td>1438.42</td>\n",
              "      <td>34.23</td>\n",
              "      <td>HOU</td>\n",
              "      <td>Rockets</td>\n",
              "      <td>128</td>\n",
              "      <td>1502.60</td>\n",
              "      <td>1496.96</td>\n",
              "      <td>H</td>\n",
              "      <td>W</td>\n",
              "      <td>0.54</td>\n",
              "      <td>NaN</td>\n",
              "    </tr>\n",
              "    <tr>\n",
              "      <th>113673</th>\n",
              "      <td>56837</td>\n",
              "      <td>201010270MEM</td>\n",
              "      <td>NBA</td>\n",
              "      <td>0</td>\n",
              "      <td>2011</td>\n",
              "      <td>10/27/2010</td>\n",
              "      <td>1</td>\n",
              "      <td>0</td>\n",
              "      <td>MEM</td>\n",
              "      <td>Grizzlies</td>\n",
              "      <td>104</td>\n",
              "      <td>1463.67</td>\n",
              "      <td>1450.23</td>\n",
              "      <td>35.44</td>\n",
              "      <td>ATL</td>\n",
              "      <td>Hawks</td>\n",
              "      <td>119</td>\n",
              "      <td>1564.23</td>\n",
              "      <td>1577.66</td>\n",
              "      <td>H</td>\n",
              "      <td>L</td>\n",
              "      <td>0.50</td>\n",
              "      <td>NaN</td>\n",
              "    </tr>\n",
              "  </tbody>\n",
              "</table>\n",
              "</div>"
            ],
            "text/plain": [
              "        gameorder       game_id lg_id  _iscopy  year_id   date_game  \\\n",
              "113659      56830  201010260LAL   NBA        0     2011  10/26/2010   \n",
              "113668      56835  201010270GSW   NBA        0     2011  10/27/2010   \n",
              "113673      56837  201010270MEM   NBA        0     2011  10/27/2010   \n",
              "\n",
              "        seasongame  is_playoffs team_id    fran_id  pts    elo_i    elo_n  \\\n",
              "113659           1            0     LAL     Lakers  112  1647.60  1649.20   \n",
              "113668           1            0     GSW   Warriors  132  1432.78  1438.42   \n",
              "113673           1            0     MEM  Grizzlies  104  1463.67  1450.23   \n",
              "\n",
              "        win_equiv opp_id opp_fran  opp_pts  opp_elo_i  opp_elo_n  \\\n",
              "113659      55.61    HOU  Rockets      110    1504.20    1502.60   \n",
              "113668      34.23    HOU  Rockets      128    1502.60    1496.96   \n",
              "113673      35.44    ATL    Hawks      119    1564.23    1577.66   \n",
              "\n",
              "       game_location game_result  forecast notes  \n",
              "113659             H           W      0.80   NaN  \n",
              "113668             H           W      0.54   NaN  \n",
              "113673             H           L      0.50   NaN  "
            ]
          },
          "metadata": {
            "tags": []
          },
          "execution_count": 81
        }
      ]
    },
    {
      "cell_type": "markdown",
      "metadata": {
        "id": "H-212108dp_W"
      },
      "source": [
        "### Task6: Grouping and Aggregating Your Data"
      ]
    },
    {
      "cell_type": "markdown",
      "metadata": {
        "id": "ySPLUu1Ldr3b"
      },
      "source": [
        "You may also want to learn other features of your dataset, like the sum, mean, or average value of a group of elements. Luckily, the Pandas Python library offers grouping and aggregation functions to help you accomplish this task."
      ]
    },
    {
      "cell_type": "code",
      "metadata": {
        "colab": {
          "base_uri": "https://localhost:8080/",
          "height": 0
        },
        "id": "EC7LLG_zdbyX",
        "outputId": "9372274f-bab5-4e62-e9a6-a6725c28522c"
      },
      "source": [
        "#Grouping - group all games for fran_id and sum their points and override the default of sorting\n",
        "nba.groupby(\"fran_id\", sort=False)[\"pts\"].sum()"
      ],
      "execution_count": 82,
      "outputs": [
        {
          "output_type": "execute_result",
          "data": {
            "text/plain": [
              "fran_id\n",
              "Huskies           3995\n",
              "Knicks          582497\n",
              "Stags            20398\n",
              "Falcons           3797\n",
              "Capitols         22387\n",
              "Celtics         626484\n",
              "Steamrollers     12372\n",
              "Ironmen           3674\n",
              "Bombers          17793\n",
              "Rebels            4474\n",
              "Warriors        591224\n",
              "Baltimore        37219\n",
              "Jets              4482\n",
              "Pistons         572758\n",
              "Lakers          637444\n",
              "Kings           569245\n",
              "Hawks           567261\n",
              "Denver            4818\n",
              "Olympians        22864\n",
              "Redskins          5372\n",
              "Waterloo          4921\n",
              "Packers           6193\n",
              "Sixers          585891\n",
              "Wizards         474809\n",
              "Bulls           437269\n",
              "Thunder         437735\n",
              "Squires          91127\n",
              "Stars            84940\n",
              "Rockets         432504\n",
              "Colonels         94435\n",
              "Pacers          438288\n",
              "Nuggets         445780\n",
              "Spurs           453822\n",
              "Spirits          85874\n",
              "Sounds           75582\n",
              "Floridians       49568\n",
              "Nets            417809\n",
              "Condors          49642\n",
              "Bucks           418326\n",
              "Suns            437486\n",
              "Clippers        380523\n",
              "Cavaliers       380416\n",
              "Trailblazers    402695\n",
              "Sails            30080\n",
              "Jazz            363155\n",
              "Mavericks       309239\n",
              "Pelicans        220794\n",
              "Heat            229103\n",
              "Timberwolves    207693\n",
              "Magic           219436\n",
              "Grizzlies       157683\n",
              "Raptors         158370\n",
              "Hornets          84489\n",
              "Name: pts, dtype: int64"
            ]
          },
          "metadata": {
            "tags": []
          },
          "execution_count": 82
        }
      ]
    },
    {
      "cell_type": "code",
      "metadata": {
        "colab": {
          "base_uri": "https://localhost:8080/",
          "height": 0
        },
        "id": "1Mk2nDTVdz_F",
        "outputId": "2c4ae8e4-ebe2-4664-8411-269d2b8c275f"
      },
      "source": [
        "#group by multiple columns\n",
        "nba[(nba[\"fran_id\"] == \"Spurs\") & (nba[\"year_id\"] > 2010)].groupby([\"year_id\", \"game_result\"])[\"game_id\"].count()"
      ],
      "execution_count": 83,
      "outputs": [
        {
          "output_type": "execute_result",
          "data": {
            "text/plain": [
              "year_id  game_result\n",
              "2011     L              25\n",
              "         W              63\n",
              "2012     L              20\n",
              "         W              60\n",
              "2013     L              30\n",
              "         W              73\n",
              "2014     L              27\n",
              "         W              78\n",
              "2015     L              31\n",
              "         W              58\n",
              "Name: game_id, dtype: int64"
            ]
          },
          "metadata": {
            "tags": []
          },
          "execution_count": 83
        }
      ]
    },
    {
      "cell_type": "markdown",
      "metadata": {
        "id": "XTd9ovkYd8Tj"
      },
      "source": [
        "Question.9:"
      ]
    },
    {
      "cell_type": "markdown",
      "metadata": {
        "id": "yZDPl0UWeAHX"
      },
      "source": [
        "\n",
        "\n",
        "```\n",
        "Take a look at the New York Knicks 2011-12 season (year_id: 2012). How many wins and losses did they score during the regular season and the playoffs?\n",
        "```\n",
        "\n"
      ]
    },
    {
      "cell_type": "code",
      "metadata": {
        "colab": {
          "base_uri": "https://localhost:8080/",
          "height": 0
        },
        "id": "0Tc3bUO7Ruew",
        "outputId": "29df947e-9f1f-4d5f-9521-a5a6a66181d5"
      },
      "source": [
        "nba[(nba[\"fran_id\"] == \"Knicks\") & (nba[\"year_id\"] > 2010)  & (nba[\"year_id\"] < 2012)].groupby([\"year_id\", \"game_result\"])[\"game_id\"].count()"
      ],
      "execution_count": 84,
      "outputs": [
        {
          "output_type": "execute_result",
          "data": {
            "text/plain": [
              "year_id  game_result\n",
              "2011     L              44\n",
              "         W              42\n",
              "Name: game_id, dtype: int64"
            ]
          },
          "metadata": {
            "tags": []
          },
          "execution_count": 84
        }
      ]
    },
    {
      "cell_type": "markdown",
      "metadata": {
        "id": "uoPI3rDHSW-V"
      },
      "source": [
        "The NY Knicks won 42 games and lost 44 during the 2011-2012 season."
      ]
    },
    {
      "cell_type": "markdown",
      "metadata": {
        "id": "OOuawbfIeENt"
      },
      "source": [
        "### Task7: Manipulating Columns\n"
      ]
    },
    {
      "cell_type": "markdown",
      "metadata": {
        "id": "tt9SMQadeGrZ"
      },
      "source": [
        "You can add and drop columns as part of the initial data cleaning phase, or later based on the insights of your analysis."
      ]
    },
    {
      "cell_type": "code",
      "metadata": {
        "colab": {
          "base_uri": "https://localhost:8080/",
          "height": 0
        },
        "id": "-1VQtPNBd4IJ",
        "outputId": "80321d2a-1cb0-48ca-d20a-d1ad5f48ca2d"
      },
      "source": [
        "#create a copy of your original DataFrame to work with\n",
        "df = nba.copy()\n",
        "df.shape\n",
        "\n",
        "#define new columns based on the existing ones\n",
        "df[\"difference\"] = df.pts - df.opp_pts\n",
        "df.shape\n",
        "\n",
        "#use an aggregation function .max() to find the largest value of your new column\n",
        "df[\"difference\"].max()\n",
        "\n",
        "#rename the columns of your dataset\n",
        "renamed_df = df.rename(columns={\"game_result\": \"result\", \"game_location\": \"location\"})\n",
        "renamed_df.info()"
      ],
      "execution_count": 89,
      "outputs": [
        {
          "output_type": "stream",
          "text": [
            "<class 'pandas.core.frame.DataFrame'>\n",
            "RangeIndex: 126314 entries, 0 to 126313\n",
            "Data columns (total 24 columns):\n",
            " #   Column       Non-Null Count   Dtype  \n",
            "---  ------       --------------   -----  \n",
            " 0   gameorder    126314 non-null  int64  \n",
            " 1   game_id      126314 non-null  object \n",
            " 2   lg_id        126314 non-null  object \n",
            " 3   _iscopy      126314 non-null  int64  \n",
            " 4   year_id      126314 non-null  int64  \n",
            " 5   date_game    126314 non-null  object \n",
            " 6   seasongame   126314 non-null  int64  \n",
            " 7   is_playoffs  126314 non-null  int64  \n",
            " 8   team_id      126314 non-null  object \n",
            " 9   fran_id      126314 non-null  object \n",
            " 10  pts          126314 non-null  int64  \n",
            " 11  elo_i        126314 non-null  float64\n",
            " 12  elo_n        126314 non-null  float64\n",
            " 13  win_equiv    126314 non-null  float64\n",
            " 14  opp_id       126314 non-null  object \n",
            " 15  opp_fran     126314 non-null  object \n",
            " 16  opp_pts      126314 non-null  int64  \n",
            " 17  opp_elo_i    126314 non-null  float64\n",
            " 18  opp_elo_n    126314 non-null  float64\n",
            " 19  location     126314 non-null  object \n",
            " 20  result       126314 non-null  object \n",
            " 21  forecast     126314 non-null  float64\n",
            " 22  notes        5424 non-null    object \n",
            " 23  difference   126314 non-null  int64  \n",
            "dtypes: float64(6), int64(8), object(10)\n",
            "memory usage: 23.1+ MB\n"
          ],
          "name": "stdout"
        }
      ]
    },
    {
      "cell_type": "code",
      "metadata": {
        "colab": {
          "base_uri": "https://localhost:8080/",
          "height": 159
        },
        "id": "PZukpRMOXg4a",
        "outputId": "238b875e-e368-47ee-ebab-28bfc8707e0d"
      },
      "source": [
        "renamed_df.head(3)"
      ],
      "execution_count": 97,
      "outputs": [
        {
          "output_type": "execute_result",
          "data": {
            "text/html": [
              "<div>\n",
              "<style scoped>\n",
              "    .dataframe tbody tr th:only-of-type {\n",
              "        vertical-align: middle;\n",
              "    }\n",
              "\n",
              "    .dataframe tbody tr th {\n",
              "        vertical-align: top;\n",
              "    }\n",
              "\n",
              "    .dataframe thead th {\n",
              "        text-align: right;\n",
              "    }\n",
              "</style>\n",
              "<table border=\"1\" class=\"dataframe\">\n",
              "  <thead>\n",
              "    <tr style=\"text-align: right;\">\n",
              "      <th></th>\n",
              "      <th>gameorder</th>\n",
              "      <th>game_id</th>\n",
              "      <th>lg_id</th>\n",
              "      <th>_iscopy</th>\n",
              "      <th>year_id</th>\n",
              "      <th>date_game</th>\n",
              "      <th>seasongame</th>\n",
              "      <th>is_playoffs</th>\n",
              "      <th>team_id</th>\n",
              "      <th>fran_id</th>\n",
              "      <th>pts</th>\n",
              "      <th>elo_i</th>\n",
              "      <th>elo_n</th>\n",
              "      <th>win_equiv</th>\n",
              "      <th>opp_id</th>\n",
              "      <th>opp_fran</th>\n",
              "      <th>opp_pts</th>\n",
              "      <th>opp_elo_i</th>\n",
              "      <th>opp_elo_n</th>\n",
              "      <th>location</th>\n",
              "      <th>result</th>\n",
              "      <th>forecast</th>\n",
              "      <th>notes</th>\n",
              "      <th>difference</th>\n",
              "    </tr>\n",
              "  </thead>\n",
              "  <tbody>\n",
              "    <tr>\n",
              "      <th>0</th>\n",
              "      <td>1</td>\n",
              "      <td>194611010TRH</td>\n",
              "      <td>NBA</td>\n",
              "      <td>0</td>\n",
              "      <td>1947</td>\n",
              "      <td>11/1/1946</td>\n",
              "      <td>1</td>\n",
              "      <td>0</td>\n",
              "      <td>TRH</td>\n",
              "      <td>Huskies</td>\n",
              "      <td>66</td>\n",
              "      <td>1300.0</td>\n",
              "      <td>1293.28</td>\n",
              "      <td>40.29</td>\n",
              "      <td>NYK</td>\n",
              "      <td>Knicks</td>\n",
              "      <td>68</td>\n",
              "      <td>1300.00</td>\n",
              "      <td>1306.72</td>\n",
              "      <td>H</td>\n",
              "      <td>L</td>\n",
              "      <td>0.64</td>\n",
              "      <td>NaN</td>\n",
              "      <td>-2</td>\n",
              "    </tr>\n",
              "    <tr>\n",
              "      <th>1</th>\n",
              "      <td>1</td>\n",
              "      <td>194611010TRH</td>\n",
              "      <td>NBA</td>\n",
              "      <td>1</td>\n",
              "      <td>1947</td>\n",
              "      <td>11/1/1946</td>\n",
              "      <td>1</td>\n",
              "      <td>0</td>\n",
              "      <td>NYK</td>\n",
              "      <td>Knicks</td>\n",
              "      <td>68</td>\n",
              "      <td>1300.0</td>\n",
              "      <td>1306.72</td>\n",
              "      <td>41.71</td>\n",
              "      <td>TRH</td>\n",
              "      <td>Huskies</td>\n",
              "      <td>66</td>\n",
              "      <td>1300.00</td>\n",
              "      <td>1293.28</td>\n",
              "      <td>A</td>\n",
              "      <td>W</td>\n",
              "      <td>0.36</td>\n",
              "      <td>NaN</td>\n",
              "      <td>2</td>\n",
              "    </tr>\n",
              "    <tr>\n",
              "      <th>2</th>\n",
              "      <td>2</td>\n",
              "      <td>194611020CHS</td>\n",
              "      <td>NBA</td>\n",
              "      <td>0</td>\n",
              "      <td>1947</td>\n",
              "      <td>11/2/1946</td>\n",
              "      <td>1</td>\n",
              "      <td>0</td>\n",
              "      <td>CHS</td>\n",
              "      <td>Stags</td>\n",
              "      <td>63</td>\n",
              "      <td>1300.0</td>\n",
              "      <td>1309.65</td>\n",
              "      <td>42.01</td>\n",
              "      <td>NYK</td>\n",
              "      <td>Knicks</td>\n",
              "      <td>47</td>\n",
              "      <td>1306.72</td>\n",
              "      <td>1297.07</td>\n",
              "      <td>H</td>\n",
              "      <td>W</td>\n",
              "      <td>0.63</td>\n",
              "      <td>NaN</td>\n",
              "      <td>16</td>\n",
              "    </tr>\n",
              "  </tbody>\n",
              "</table>\n",
              "</div>"
            ],
            "text/plain": [
              "   gameorder       game_id lg_id  _iscopy  year_id  date_game  seasongame  \\\n",
              "0          1  194611010TRH   NBA        0     1947  11/1/1946           1   \n",
              "1          1  194611010TRH   NBA        1     1947  11/1/1946           1   \n",
              "2          2  194611020CHS   NBA        0     1947  11/2/1946           1   \n",
              "\n",
              "   is_playoffs team_id  fran_id  pts   elo_i    elo_n  win_equiv opp_id  \\\n",
              "0            0     TRH  Huskies   66  1300.0  1293.28      40.29    NYK   \n",
              "1            0     NYK   Knicks   68  1300.0  1306.72      41.71    TRH   \n",
              "2            0     CHS    Stags   63  1300.0  1309.65      42.01    NYK   \n",
              "\n",
              "  opp_fran  opp_pts  opp_elo_i  opp_elo_n location result  forecast notes  \\\n",
              "0   Knicks       68    1300.00    1306.72        H      L      0.64   NaN   \n",
              "1  Huskies       66    1300.00    1293.28        A      W      0.36   NaN   \n",
              "2   Knicks       47    1306.72    1297.07        H      W      0.63   NaN   \n",
              "\n",
              "   difference  \n",
              "0          -2  \n",
              "1           2  \n",
              "2          16  "
            ]
          },
          "metadata": {
            "tags": []
          },
          "execution_count": 97
        }
      ]
    },
    {
      "cell_type": "code",
      "metadata": {
        "id": "IuURSL9KTOjd"
      },
      "source": [
        "# save the renamed dataframe into a csv file\n",
        "renamed_df.to_csv(\"renamed_df.csv\")"
      ],
      "execution_count": 90,
      "outputs": []
    },
    {
      "cell_type": "markdown",
      "metadata": {
        "id": "iNDTHJ4jeRxS"
      },
      "source": [
        "Note that there’s a new object, renamed_df. Like several other data manipulation methods, .rename() returns a new DataFrame by default."
      ]
    },
    {
      "cell_type": "code",
      "metadata": {
        "colab": {
          "base_uri": "https://localhost:8080/",
          "height": 0
        },
        "id": "VKSRpjBdeSxT",
        "outputId": "08087eac-8ab4-4700-ccb6-ea2e05f740e1"
      },
      "source": [
        "#Delete unwanted columns - wont be analyzing Elo ratings here so go ahead and delete them\n",
        "df.shape\n",
        "elo_columns = [\"elo_i\", \"elo_n\", \"opp_elo_i\", \"opp_elo_n\"]\n",
        "df.drop(elo_columns, inplace=True, axis=1)\n",
        "df.shape"
      ],
      "execution_count": 91,
      "outputs": [
        {
          "output_type": "execute_result",
          "data": {
            "text/plain": [
              "(126314, 20)"
            ]
          },
          "metadata": {
            "tags": []
          },
          "execution_count": 91
        }
      ]
    },
    {
      "cell_type": "markdown",
      "metadata": {
        "id": "12FCuHGTek7z"
      },
      "source": [
        "Understanding the df.drop function:\n",
        "\n",
        "```\n",
        "DataFrame.drop(self, labels=None, axis=0, index=None, columns=None, level=None, inplace=False, errors='raise')\n",
        "```\n",
        "\n",
        "Is translated into:<br>\n",
        "Index or column labels to drop, Whether to drop labels from the index (0 or ‘index’) or columns (1 or ‘columns’), 'inplace=True' to make permanent changes to the dataframe."
      ]
    },
    {
      "cell_type": "markdown",
      "metadata": {
        "id": "g_bdT4bPec65"
      },
      "source": [
        "### Task8: Specifying Data Types"
      ]
    },
    {
      "cell_type": "markdown",
      "metadata": {
        "id": "gH9byb9eegYI"
      },
      "source": [
        "When you create a new DataFrame, Pandas assigns a data type to each column based on its values. Sometimes is not too accurate. Choose the correct data type for your columns upfront to improve performance.<br>\n",
        "Take another look at the columns of the nba dataset:"
      ]
    },
    {
      "cell_type": "code",
      "metadata": {
        "colab": {
          "base_uri": "https://localhost:8080/",
          "height": 0
        },
        "id": "jjm5k7lbeZke",
        "outputId": "8b8a2342-5cea-4d99-e116-b2b4b217eea5"
      },
      "source": [
        "#take a look at the DataFrame\n",
        "df.info()"
      ],
      "execution_count": 92,
      "outputs": [
        {
          "output_type": "stream",
          "text": [
            "<class 'pandas.core.frame.DataFrame'>\n",
            "RangeIndex: 126314 entries, 0 to 126313\n",
            "Data columns (total 20 columns):\n",
            " #   Column         Non-Null Count   Dtype  \n",
            "---  ------         --------------   -----  \n",
            " 0   gameorder      126314 non-null  int64  \n",
            " 1   game_id        126314 non-null  object \n",
            " 2   lg_id          126314 non-null  object \n",
            " 3   _iscopy        126314 non-null  int64  \n",
            " 4   year_id        126314 non-null  int64  \n",
            " 5   date_game      126314 non-null  object \n",
            " 6   seasongame     126314 non-null  int64  \n",
            " 7   is_playoffs    126314 non-null  int64  \n",
            " 8   team_id        126314 non-null  object \n",
            " 9   fran_id        126314 non-null  object \n",
            " 10  pts            126314 non-null  int64  \n",
            " 11  win_equiv      126314 non-null  float64\n",
            " 12  opp_id         126314 non-null  object \n",
            " 13  opp_fran       126314 non-null  object \n",
            " 14  opp_pts        126314 non-null  int64  \n",
            " 15  game_location  126314 non-null  object \n",
            " 16  game_result    126314 non-null  object \n",
            " 17  forecast       126314 non-null  float64\n",
            " 18  notes          5424 non-null    object \n",
            " 19  difference     126314 non-null  int64  \n",
            "dtypes: float64(2), int64(8), object(10)\n",
            "memory usage: 19.3+ MB\n"
          ],
          "name": "stdout"
        }
      ]
    },
    {
      "cell_type": "markdown",
      "metadata": {
        "id": "ohL1q_oqe17q"
      },
      "source": [
        "Ten of your columns have the data type object and some of these are good candidates for data type conversion."
      ]
    },
    {
      "cell_type": "code",
      "metadata": {
        "id": "v_cnuS7xezBs"
      },
      "source": [
        "# use .to_datetime() to specify all game dates as datetime objects.\n",
        "df[\"date_game\"] = pd.to_datetime(df[\"date_game\"])"
      ],
      "execution_count": 94,
      "outputs": []
    },
    {
      "cell_type": "markdown",
      "metadata": {
        "id": "ERyZKrkLe7yz"
      },
      "source": [
        "Similary, game_location can have only three different values. In a relational database, you would use the type enum for this column. Pandas provides the categorical data type for that same purpose."
      ]
    },
    {
      "cell_type": "code",
      "metadata": {
        "colab": {
          "base_uri": "https://localhost:8080/",
          "height": 0
        },
        "id": "0J6ihsNye9-u",
        "outputId": "a623cbce-cbe0-4860-f435-4d9f7a7e1202"
      },
      "source": [
        "#game_location column can have only three different values.\n",
        "#you can see this by executing this code\n",
        "df[\"game_location\"].nunique()\n",
        "df[\"game_location\"].value_counts()\n",
        "\n",
        "#change the data type to categorical and check it\n",
        "df[\"game_location\"] = pd.Categorical(df[\"game_location\"])\n",
        "df[\"game_location\"].dtype"
      ],
      "execution_count": 95,
      "outputs": [
        {
          "output_type": "execute_result",
          "data": {
            "text/plain": [
              "CategoricalDtype(categories=['A', 'H', 'N'], ordered=False)"
            ]
          },
          "metadata": {
            "tags": []
          },
          "execution_count": 95
        }
      ]
    },
    {
      "cell_type": "markdown",
      "metadata": {
        "id": "WGU3WenDfEwg"
      },
      "source": [
        "After changing to categorical data, execute df.info. You will notice a drop in memory usage, hence improving performance."
      ]
    },
    {
      "cell_type": "code",
      "metadata": {
        "colab": {
          "base_uri": "https://localhost:8080/",
          "height": 210
        },
        "id": "t6JvfTCWXRyo",
        "outputId": "d59eb2d5-bd39-4b18-941f-8f94bcbaf3f4"
      },
      "source": [
        "df.tail(3)"
      ],
      "execution_count": 98,
      "outputs": [
        {
          "output_type": "execute_result",
          "data": {
            "text/html": [
              "<div>\n",
              "<style scoped>\n",
              "    .dataframe tbody tr th:only-of-type {\n",
              "        vertical-align: middle;\n",
              "    }\n",
              "\n",
              "    .dataframe tbody tr th {\n",
              "        vertical-align: top;\n",
              "    }\n",
              "\n",
              "    .dataframe thead th {\n",
              "        text-align: right;\n",
              "    }\n",
              "</style>\n",
              "<table border=\"1\" class=\"dataframe\">\n",
              "  <thead>\n",
              "    <tr style=\"text-align: right;\">\n",
              "      <th></th>\n",
              "      <th>gameorder</th>\n",
              "      <th>game_id</th>\n",
              "      <th>lg_id</th>\n",
              "      <th>_iscopy</th>\n",
              "      <th>year_id</th>\n",
              "      <th>date_game</th>\n",
              "      <th>seasongame</th>\n",
              "      <th>is_playoffs</th>\n",
              "      <th>team_id</th>\n",
              "      <th>fran_id</th>\n",
              "      <th>pts</th>\n",
              "      <th>win_equiv</th>\n",
              "      <th>opp_id</th>\n",
              "      <th>opp_fran</th>\n",
              "      <th>opp_pts</th>\n",
              "      <th>game_location</th>\n",
              "      <th>game_result</th>\n",
              "      <th>forecast</th>\n",
              "      <th>notes</th>\n",
              "      <th>difference</th>\n",
              "    </tr>\n",
              "  </thead>\n",
              "  <tbody>\n",
              "    <tr>\n",
              "      <th>126311</th>\n",
              "      <td>63156</td>\n",
              "      <td>201506140GSW</td>\n",
              "      <td>NBA</td>\n",
              "      <td>1</td>\n",
              "      <td>2015</td>\n",
              "      <td>2015-06-14</td>\n",
              "      <td>101</td>\n",
              "      <td>1</td>\n",
              "      <td>CLE</td>\n",
              "      <td>Cavaliers</td>\n",
              "      <td>91</td>\n",
              "      <td>60.01</td>\n",
              "      <td>GSW</td>\n",
              "      <td>Warriors</td>\n",
              "      <td>104</td>\n",
              "      <td>A</td>\n",
              "      <td>L</td>\n",
              "      <td>0.23</td>\n",
              "      <td>NaN</td>\n",
              "      <td>-13</td>\n",
              "    </tr>\n",
              "    <tr>\n",
              "      <th>126312</th>\n",
              "      <td>63157</td>\n",
              "      <td>201506170CLE</td>\n",
              "      <td>NBA</td>\n",
              "      <td>0</td>\n",
              "      <td>2015</td>\n",
              "      <td>2015-06-16</td>\n",
              "      <td>102</td>\n",
              "      <td>1</td>\n",
              "      <td>CLE</td>\n",
              "      <td>Cavaliers</td>\n",
              "      <td>97</td>\n",
              "      <td>59.29</td>\n",
              "      <td>GSW</td>\n",
              "      <td>Warriors</td>\n",
              "      <td>105</td>\n",
              "      <td>H</td>\n",
              "      <td>L</td>\n",
              "      <td>0.48</td>\n",
              "      <td>NaN</td>\n",
              "      <td>-8</td>\n",
              "    </tr>\n",
              "    <tr>\n",
              "      <th>126313</th>\n",
              "      <td>63157</td>\n",
              "      <td>201506170CLE</td>\n",
              "      <td>NBA</td>\n",
              "      <td>1</td>\n",
              "      <td>2015</td>\n",
              "      <td>2015-06-16</td>\n",
              "      <td>103</td>\n",
              "      <td>1</td>\n",
              "      <td>GSW</td>\n",
              "      <td>Warriors</td>\n",
              "      <td>105</td>\n",
              "      <td>68.52</td>\n",
              "      <td>CLE</td>\n",
              "      <td>Cavaliers</td>\n",
              "      <td>97</td>\n",
              "      <td>A</td>\n",
              "      <td>W</td>\n",
              "      <td>0.52</td>\n",
              "      <td>NaN</td>\n",
              "      <td>8</td>\n",
              "    </tr>\n",
              "  </tbody>\n",
              "</table>\n",
              "</div>"
            ],
            "text/plain": [
              "        gameorder       game_id lg_id  _iscopy  year_id  date_game  \\\n",
              "126311      63156  201506140GSW   NBA        1     2015 2015-06-14   \n",
              "126312      63157  201506170CLE   NBA        0     2015 2015-06-16   \n",
              "126313      63157  201506170CLE   NBA        1     2015 2015-06-16   \n",
              "\n",
              "        seasongame  is_playoffs team_id    fran_id  pts  win_equiv opp_id  \\\n",
              "126311         101            1     CLE  Cavaliers   91      60.01    GSW   \n",
              "126312         102            1     CLE  Cavaliers   97      59.29    GSW   \n",
              "126313         103            1     GSW   Warriors  105      68.52    CLE   \n",
              "\n",
              "         opp_fran  opp_pts game_location game_result  forecast notes  \\\n",
              "126311   Warriors      104             A           L      0.23   NaN   \n",
              "126312   Warriors      105             H           L      0.48   NaN   \n",
              "126313  Cavaliers       97             A           W      0.52   NaN   \n",
              "\n",
              "        difference  \n",
              "126311         -13  \n",
              "126312          -8  \n",
              "126313           8  "
            ]
          },
          "metadata": {
            "tags": []
          },
          "execution_count": 98
        }
      ]
    },
    {
      "cell_type": "markdown",
      "metadata": {
        "id": "0fMzbFpQfKN1"
      },
      "source": [
        "Question.10:\n",
        "\n",
        "```\n",
        "Find another column in the nba dataset that has a generic data type and convert it to a more specific one.\n",
        "```\n",
        "\n"
      ]
    },
    {
      "cell_type": "code",
      "metadata": {
        "colab": {
          "base_uri": "https://localhost:8080/",
          "height": 0
        },
        "id": "6MDvXNYYdgDf",
        "outputId": "27d3a70d-0d01-4250-e84f-73f1fe80bd14"
      },
      "source": [
        "# convert game_result column values (W, L) into categorical type\n",
        "df[\"game_result\"].nunique()\n",
        "df[\"game_result\"].value_counts()\n",
        "\n",
        "#change the data type to categorical and check it\n",
        "df[\"game_result\"] = pd.Categorical(df[\"game_result\"])\n",
        "df[\"game_result\"].dtype"
      ],
      "execution_count": 99,
      "outputs": [
        {
          "output_type": "execute_result",
          "data": {
            "text/plain": [
              "CategoricalDtype(categories=['L', 'W'], ordered=False)"
            ]
          },
          "metadata": {
            "tags": []
          },
          "execution_count": 99
        }
      ]
    },
    {
      "cell_type": "markdown",
      "metadata": {
        "id": "gHn20_qxfVm5"
      },
      "source": [
        "### Task9: Cleaning the Data\n"
      ]
    },
    {
      "cell_type": "markdown",
      "metadata": {
        "id": "T_O45vnkfYOV"
      },
      "source": [
        "#### 9.1) Missing Values\n",
        ".info() shows how many non-null values a column contains. That is very important information for you to have about your data. Null values often indicate a problem in the data-gathering process.<br>\n",
        "When you inspect the dataset with nba.info() you will see that the dataset is quite neat except for the notes column which contains null values for most of its rows. This output shows that the notes column has only 5424 non-null values."
      ]
    },
    {
      "cell_type": "markdown",
      "metadata": {
        "id": "MxrTnZy2fh4I"
      },
      "source": [
        "That means that over 120,000 rows of your dataset have null values in this column.<br>\n",
        "Here are a few ways to deal with null values:"
      ]
    },
    {
      "cell_type": "code",
      "metadata": {
        "colab": {
          "base_uri": "https://localhost:8080/",
          "height": 0
        },
        "id": "C0TOkUZrfC28",
        "outputId": "78761dbf-ad53-43a3-bd21-9794856cbf27"
      },
      "source": [
        "#1st way- usually best approach is to ignore them, remove all rows with missing values\n",
        "rows_without_missing_data = nba.dropna()\n",
        "rows_without_missing_data.shape"
      ],
      "execution_count": 100,
      "outputs": [
        {
          "output_type": "execute_result",
          "data": {
            "text/plain": [
              "(5424, 23)"
            ]
          },
          "metadata": {
            "tags": []
          },
          "execution_count": 100
        }
      ]
    },
    {
      "cell_type": "code",
      "metadata": {
        "colab": {
          "base_uri": "https://localhost:8080/",
          "height": 0
        },
        "id": "mB9BAaqdeM-l",
        "outputId": "94f14153-652b-4e1b-984e-b4f9f1673b0e"
      },
      "source": [
        "#2nd way - Drop columns if they are not relevant to your analysis\n",
        "# notes column is removed, rows remain unchanged\n",
        "data_without_missing_columns = nba.dropna(axis=1)\n",
        "data_without_missing_columns.shape"
      ],
      "execution_count": 101,
      "outputs": [
        {
          "output_type": "execute_result",
          "data": {
            "text/plain": [
              "(126314, 22)"
            ]
          },
          "metadata": {
            "tags": []
          },
          "execution_count": 101
        }
      ]
    },
    {
      "cell_type": "code",
      "metadata": {
        "colab": {
          "base_uri": "https://localhost:8080/",
          "height": 0
        },
        "id": "C6UVHJ_peWUp",
        "outputId": "fe09bb23-16ac-4711-e12b-f56f879cf4eb"
      },
      "source": [
        "#3rd way - replace the missing values with a meaningful default value for your use case\n",
        "# basically create dummy value to fill the void that would leave NAs\n",
        "data_with_default_notes = nba.copy()\n",
        "data_with_default_notes[\"notes\"].fillna(value=\"no notes at all\", inplace=True)\n",
        "data_with_default_notes[\"notes\"].describe()"
      ],
      "execution_count": 102,
      "outputs": [
        {
          "output_type": "execute_result",
          "data": {
            "text/plain": [
              "count              126314\n",
              "unique                232\n",
              "top       no notes at all\n",
              "freq               120890\n",
              "Name: notes, dtype: object"
            ]
          },
          "metadata": {
            "tags": []
          },
          "execution_count": 102
        }
      ]
    },
    {
      "cell_type": "markdown",
      "metadata": {
        "id": "luvNwqtQfu6x"
      },
      "source": [
        "Regarding the 1st way , that kind of data clean-up doesn’t make sense for your nba dataset, because it’s not a problem for a game to lack notes. But if your dataset contains a million valid records and a hundred where relevant data is\n",
        "missing, then dropping the incomplete records can be a reasonable solution."
      ]
    },
    {
      "cell_type": "markdown",
      "metadata": {
        "id": "fmqhNWfUfzA-"
      },
      "source": [
        "#### 9.2) Invalid Values"
      ]
    },
    {
      "cell_type": "markdown",
      "metadata": {
        "id": "M9vV3Zo5f2oe"
      },
      "source": [
        "Use .describe to understand more about your dataset. This can help you identify invalid values that may throw off your analysis."
      ]
    },
    {
      "cell_type": "code",
      "metadata": {
        "colab": {
          "base_uri": "https://localhost:8080/",
          "height": 311
        },
        "id": "JpP8G-KOfBdP",
        "outputId": "0e5c82ac-c841-48b2-9cfa-3759cbf2df4a"
      },
      "source": [
        "nba.describe()"
      ],
      "execution_count": 103,
      "outputs": [
        {
          "output_type": "execute_result",
          "data": {
            "text/html": [
              "<div>\n",
              "<style scoped>\n",
              "    .dataframe tbody tr th:only-of-type {\n",
              "        vertical-align: middle;\n",
              "    }\n",
              "\n",
              "    .dataframe tbody tr th {\n",
              "        vertical-align: top;\n",
              "    }\n",
              "\n",
              "    .dataframe thead th {\n",
              "        text-align: right;\n",
              "    }\n",
              "</style>\n",
              "<table border=\"1\" class=\"dataframe\">\n",
              "  <thead>\n",
              "    <tr style=\"text-align: right;\">\n",
              "      <th></th>\n",
              "      <th>gameorder</th>\n",
              "      <th>_iscopy</th>\n",
              "      <th>year_id</th>\n",
              "      <th>seasongame</th>\n",
              "      <th>is_playoffs</th>\n",
              "      <th>pts</th>\n",
              "      <th>elo_i</th>\n",
              "      <th>elo_n</th>\n",
              "      <th>win_equiv</th>\n",
              "      <th>opp_pts</th>\n",
              "      <th>opp_elo_i</th>\n",
              "      <th>opp_elo_n</th>\n",
              "      <th>forecast</th>\n",
              "    </tr>\n",
              "  </thead>\n",
              "  <tbody>\n",
              "    <tr>\n",
              "      <th>count</th>\n",
              "      <td>126314.00</td>\n",
              "      <td>126314.0</td>\n",
              "      <td>126314.00</td>\n",
              "      <td>126314.00</td>\n",
              "      <td>126314.00</td>\n",
              "      <td>126314.00</td>\n",
              "      <td>126314.00</td>\n",
              "      <td>126314.00</td>\n",
              "      <td>126314.00</td>\n",
              "      <td>126314.00</td>\n",
              "      <td>126314.00</td>\n",
              "      <td>126314.00</td>\n",
              "      <td>126314.00</td>\n",
              "    </tr>\n",
              "    <tr>\n",
              "      <th>mean</th>\n",
              "      <td>31579.00</td>\n",
              "      <td>0.5</td>\n",
              "      <td>1988.20</td>\n",
              "      <td>43.53</td>\n",
              "      <td>0.06</td>\n",
              "      <td>102.73</td>\n",
              "      <td>1495.24</td>\n",
              "      <td>1495.24</td>\n",
              "      <td>41.71</td>\n",
              "      <td>102.73</td>\n",
              "      <td>1495.24</td>\n",
              "      <td>1495.24</td>\n",
              "      <td>0.50</td>\n",
              "    </tr>\n",
              "    <tr>\n",
              "      <th>std</th>\n",
              "      <td>18231.93</td>\n",
              "      <td>0.5</td>\n",
              "      <td>17.58</td>\n",
              "      <td>25.38</td>\n",
              "      <td>0.24</td>\n",
              "      <td>14.81</td>\n",
              "      <td>112.14</td>\n",
              "      <td>112.46</td>\n",
              "      <td>10.63</td>\n",
              "      <td>14.81</td>\n",
              "      <td>112.14</td>\n",
              "      <td>112.46</td>\n",
              "      <td>0.22</td>\n",
              "    </tr>\n",
              "    <tr>\n",
              "      <th>min</th>\n",
              "      <td>1.00</td>\n",
              "      <td>0.0</td>\n",
              "      <td>1947.00</td>\n",
              "      <td>1.00</td>\n",
              "      <td>0.00</td>\n",
              "      <td>0.00</td>\n",
              "      <td>1091.64</td>\n",
              "      <td>1085.77</td>\n",
              "      <td>10.15</td>\n",
              "      <td>0.00</td>\n",
              "      <td>1091.64</td>\n",
              "      <td>1085.77</td>\n",
              "      <td>0.02</td>\n",
              "    </tr>\n",
              "    <tr>\n",
              "      <th>25%</th>\n",
              "      <td>15790.00</td>\n",
              "      <td>0.0</td>\n",
              "      <td>1975.00</td>\n",
              "      <td>22.00</td>\n",
              "      <td>0.00</td>\n",
              "      <td>93.00</td>\n",
              "      <td>1417.24</td>\n",
              "      <td>1416.99</td>\n",
              "      <td>34.10</td>\n",
              "      <td>93.00</td>\n",
              "      <td>1417.24</td>\n",
              "      <td>1416.99</td>\n",
              "      <td>0.33</td>\n",
              "    </tr>\n",
              "    <tr>\n",
              "      <th>50%</th>\n",
              "      <td>31579.00</td>\n",
              "      <td>0.5</td>\n",
              "      <td>1990.00</td>\n",
              "      <td>43.00</td>\n",
              "      <td>0.00</td>\n",
              "      <td>103.00</td>\n",
              "      <td>1500.95</td>\n",
              "      <td>1500.95</td>\n",
              "      <td>42.11</td>\n",
              "      <td>103.00</td>\n",
              "      <td>1500.95</td>\n",
              "      <td>1500.95</td>\n",
              "      <td>0.50</td>\n",
              "    </tr>\n",
              "    <tr>\n",
              "      <th>75%</th>\n",
              "      <td>47368.00</td>\n",
              "      <td>1.0</td>\n",
              "      <td>2003.00</td>\n",
              "      <td>65.00</td>\n",
              "      <td>0.00</td>\n",
              "      <td>112.00</td>\n",
              "      <td>1576.06</td>\n",
              "      <td>1576.29</td>\n",
              "      <td>49.64</td>\n",
              "      <td>112.00</td>\n",
              "      <td>1576.06</td>\n",
              "      <td>1576.29</td>\n",
              "      <td>0.67</td>\n",
              "    </tr>\n",
              "    <tr>\n",
              "      <th>max</th>\n",
              "      <td>63157.00</td>\n",
              "      <td>1.0</td>\n",
              "      <td>2015.00</td>\n",
              "      <td>108.00</td>\n",
              "      <td>1.00</td>\n",
              "      <td>186.00</td>\n",
              "      <td>1853.10</td>\n",
              "      <td>1853.10</td>\n",
              "      <td>71.11</td>\n",
              "      <td>186.00</td>\n",
              "      <td>1853.10</td>\n",
              "      <td>1853.10</td>\n",
              "      <td>0.98</td>\n",
              "    </tr>\n",
              "  </tbody>\n",
              "</table>\n",
              "</div>"
            ],
            "text/plain": [
              "       gameorder   _iscopy    year_id  seasongame  is_playoffs        pts  \\\n",
              "count  126314.00  126314.0  126314.00   126314.00    126314.00  126314.00   \n",
              "mean    31579.00       0.5    1988.20       43.53         0.06     102.73   \n",
              "std     18231.93       0.5      17.58       25.38         0.24      14.81   \n",
              "min         1.00       0.0    1947.00        1.00         0.00       0.00   \n",
              "25%     15790.00       0.0    1975.00       22.00         0.00      93.00   \n",
              "50%     31579.00       0.5    1990.00       43.00         0.00     103.00   \n",
              "75%     47368.00       1.0    2003.00       65.00         0.00     112.00   \n",
              "max     63157.00       1.0    2015.00      108.00         1.00     186.00   \n",
              "\n",
              "           elo_i      elo_n  win_equiv    opp_pts  opp_elo_i  opp_elo_n  \\\n",
              "count  126314.00  126314.00  126314.00  126314.00  126314.00  126314.00   \n",
              "mean     1495.24    1495.24      41.71     102.73    1495.24    1495.24   \n",
              "std       112.14     112.46      10.63      14.81     112.14     112.46   \n",
              "min      1091.64    1085.77      10.15       0.00    1091.64    1085.77   \n",
              "25%      1417.24    1416.99      34.10      93.00    1417.24    1416.99   \n",
              "50%      1500.95    1500.95      42.11     103.00    1500.95    1500.95   \n",
              "75%      1576.06    1576.29      49.64     112.00    1576.06    1576.29   \n",
              "max      1853.10    1853.10      71.11     186.00    1853.10    1853.10   \n",
              "\n",
              "        forecast  \n",
              "count  126314.00  \n",
              "mean        0.50  \n",
              "std         0.22  \n",
              "min         0.02  \n",
              "25%         0.33  \n",
              "50%         0.50  \n",
              "75%         0.67  \n",
              "max         0.98  "
            ]
          },
          "metadata": {
            "tags": []
          },
          "execution_count": 103
        }
      ]
    },
    {
      "cell_type": "markdown",
      "metadata": {
        "id": "xm1NU45mf-8K"
      },
      "source": [
        "Looking at the output you will see that the year_id varies between 1947 and 2015. That sounds plausible. But how can the minimum points of a game be 0.<br>\n",
        "Take a look at those games to find out if it makes sense or not."
      ]
    },
    {
      "cell_type": "code",
      "metadata": {
        "colab": {
          "base_uri": "https://localhost:8080/",
          "height": 150
        },
        "id": "pNG4KCPSfsAl",
        "outputId": "a8a2874a-92ef-4a09-ce2e-24b540ed32b7"
      },
      "source": [
        "#selecting the games where pts are 0\n",
        "nba[nba[\"pts\"] == 0]"
      ],
      "execution_count": 104,
      "outputs": [
        {
          "output_type": "execute_result",
          "data": {
            "text/html": [
              "<div>\n",
              "<style scoped>\n",
              "    .dataframe tbody tr th:only-of-type {\n",
              "        vertical-align: middle;\n",
              "    }\n",
              "\n",
              "    .dataframe tbody tr th {\n",
              "        vertical-align: top;\n",
              "    }\n",
              "\n",
              "    .dataframe thead th {\n",
              "        text-align: right;\n",
              "    }\n",
              "</style>\n",
              "<table border=\"1\" class=\"dataframe\">\n",
              "  <thead>\n",
              "    <tr style=\"text-align: right;\">\n",
              "      <th></th>\n",
              "      <th>gameorder</th>\n",
              "      <th>game_id</th>\n",
              "      <th>lg_id</th>\n",
              "      <th>_iscopy</th>\n",
              "      <th>year_id</th>\n",
              "      <th>date_game</th>\n",
              "      <th>seasongame</th>\n",
              "      <th>is_playoffs</th>\n",
              "      <th>team_id</th>\n",
              "      <th>fran_id</th>\n",
              "      <th>pts</th>\n",
              "      <th>elo_i</th>\n",
              "      <th>elo_n</th>\n",
              "      <th>win_equiv</th>\n",
              "      <th>opp_id</th>\n",
              "      <th>opp_fran</th>\n",
              "      <th>opp_pts</th>\n",
              "      <th>opp_elo_i</th>\n",
              "      <th>opp_elo_n</th>\n",
              "      <th>game_location</th>\n",
              "      <th>game_result</th>\n",
              "      <th>forecast</th>\n",
              "      <th>notes</th>\n",
              "    </tr>\n",
              "  </thead>\n",
              "  <tbody>\n",
              "    <tr>\n",
              "      <th>26684</th>\n",
              "      <td>13343</td>\n",
              "      <td>197210260VIR</td>\n",
              "      <td>ABA</td>\n",
              "      <td>1</td>\n",
              "      <td>1973</td>\n",
              "      <td>10/26/1972</td>\n",
              "      <td>7</td>\n",
              "      <td>0</td>\n",
              "      <td>DNR</td>\n",
              "      <td>Nuggets</td>\n",
              "      <td>0</td>\n",
              "      <td>1460.34</td>\n",
              "      <td>1457.45</td>\n",
              "      <td>40.41</td>\n",
              "      <td>VIR</td>\n",
              "      <td>Squires</td>\n",
              "      <td>2</td>\n",
              "      <td>1484.19</td>\n",
              "      <td>1487.08</td>\n",
              "      <td>A</td>\n",
              "      <td>L</td>\n",
              "      <td>0.33</td>\n",
              "      <td>at Richmond VA; forfeit to VIR</td>\n",
              "    </tr>\n",
              "  </tbody>\n",
              "</table>\n",
              "</div>"
            ],
            "text/plain": [
              "       gameorder       game_id lg_id  _iscopy  year_id   date_game  \\\n",
              "26684      13343  197210260VIR   ABA        1     1973  10/26/1972   \n",
              "\n",
              "       seasongame  is_playoffs team_id  fran_id  pts    elo_i    elo_n  \\\n",
              "26684           7            0     DNR  Nuggets    0  1460.34  1457.45   \n",
              "\n",
              "       win_equiv opp_id opp_fran  opp_pts  opp_elo_i  opp_elo_n game_location  \\\n",
              "26684      40.41    VIR  Squires        2    1484.19    1487.08             A   \n",
              "\n",
              "      game_result  forecast                           notes  \n",
              "26684           L      0.33  at Richmond VA; forfeit to VIR  "
            ]
          },
          "metadata": {
            "tags": []
          },
          "execution_count": 104
        }
      ]
    },
    {
      "cell_type": "markdown",
      "metadata": {
        "id": "jGmu29a8gFkC"
      },
      "source": [
        "It seems the game was forfeited. Depending on your analysis, you may want to remove it from the dataset."
      ]
    },
    {
      "cell_type": "markdown",
      "metadata": {
        "id": "UFC96ZYEgIiP"
      },
      "source": [
        "#### 9.3) Inconsistent Values"
      ]
    },
    {
      "cell_type": "markdown",
      "metadata": {
        "id": "_pKdELwzgKfB"
      },
      "source": [
        "Always check for inconsistent values. The values of the fields pts, opp_pts and game_result should be consistent with each other."
      ]
    },
    {
      "cell_type": "code",
      "metadata": {
        "colab": {
          "base_uri": "https://localhost:8080/",
          "height": 0
        },
        "id": "fInWx68TgDrF",
        "outputId": "8e0955aa-c815-4509-a9cf-21ee40de7e88"
      },
      "source": [
        "#check using the .empty() attribute\n",
        "# here we check that teams which pts are higher than the opponent\n",
        "# have indeed a winning status 'W'; empty if otherwise\n",
        "# And vice-versa\n",
        "nba[(nba[\"pts\"] > nba[\"opp_pts\"]) & (nba[\"game_result\"] != 'W')].empty\n",
        "nba[(nba[\"pts\"] < nba[\"opp_pts\"]) & (nba[\"game_result\"] != 'L')].empty"
      ],
      "execution_count": 106,
      "outputs": [
        {
          "output_type": "execute_result",
          "data": {
            "text/plain": [
              "True"
            ]
          },
          "metadata": {
            "tags": []
          },
          "execution_count": 106
        }
      ]
    },
    {
      "cell_type": "markdown",
      "metadata": {
        "id": "Jcez4y3lgPxb"
      },
      "source": [
        "Fortunately, both of these queries return an empty DataFrame. But be prepared for surprises, always check consistency."
      ]
    },
    {
      "cell_type": "markdown",
      "metadata": {
        "id": "Zp_bpn4hgUTk"
      },
      "source": [
        "### Task10: Data Visualisation"
      ]
    },
    {
      "cell_type": "markdown",
      "metadata": {
        "id": "oACjJLGvgYkT"
      },
      "source": [
        "Sometimes, the numbers speak for themselves, but often a chart helps a lot with communicating your insights.\n",
        "Data visualizations make big and small data easier for the human brain to understand, and visualization also makes it easier to detect patterns, trends, and outliers in groups of data.<br>\n",
        "Data visualisation is one of the things that works much better in a Jupyter notebook than in a terminal. If you need help getting started, then check out **Jupyter Notebook: An Introduction**. Both Series and DataFrame objects have a .plot() method, which is a wrapper around matplotlib.pyplot.plot().\n"
      ]
    },
    {
      "cell_type": "markdown",
      "metadata": {
        "id": "CjtV-Vzxghas"
      },
      "source": [
        "Visualize how many points the Knicks scored throughout the seasons."
      ]
    },
    {
      "cell_type": "code",
      "metadata": {
        "id": "b2_6blKyeRKZ"
      },
      "source": [
        "#Include this line to show plots directly in the notebook\n",
        "%matplotlib inline"
      ],
      "execution_count": 108,
      "outputs": []
    },
    {
      "cell_type": "code",
      "metadata": {
        "colab": {
          "base_uri": "https://localhost:8080/",
          "height": 298
        },
        "id": "w7FxV6xCgRUo",
        "outputId": "8dba9b85-85ff-4a8e-fe55-afb2acc020c2"
      },
      "source": [
        "#Visualize how many points the Knicks scored throughout the seasons\n",
        "nba[nba[\"fran_id\"] == \"Knicks\"].groupby(\"year_id\")[\"pts\"].sum().plot()"
      ],
      "execution_count": 110,
      "outputs": [
        {
          "output_type": "execute_result",
          "data": {
            "text/plain": [
              "<matplotlib.axes._subplots.AxesSubplot at 0x7f490a9a5090>"
            ]
          },
          "metadata": {
            "tags": []
          },
          "execution_count": 110
        },
        {
          "output_type": "display_data",
          "data": {
            "image/png": "[encoded data removed]",
            "text/plain": [
              "<Figure size 432x288 with 1 Axes>"
            ]
          },
          "metadata": {
            "tags": [],
            "needs_background": "light"
          }
        }
      ]
    },
    {
      "cell_type": "code",
      "metadata": {
        "colab": {
          "base_uri": "https://localhost:8080/",
          "height": 315
        },
        "id": "_wy2yuWYiBtM",
        "outputId": "c956b220-56cd-4935-85a3-7e325f636c08"
      },
      "source": [
        "#create a bar plot to show the top 10 franchises with the most games played\n",
        "nba[\"fran_id\"].value_counts().head(10).plot(kind=\"bar\")"
      ],
      "execution_count": 111,
      "outputs": [
        {
          "output_type": "execute_result",
          "data": {
            "text/plain": [
              "<matplotlib.axes._subplots.AxesSubplot at 0x7f490a939610>"
            ]
          },
          "metadata": {
            "tags": []
          },
          "execution_count": 111
        },
        {
          "output_type": "display_data",
          "data": {
            "image/png": "[encoded data removed]",
            "text/plain": [
              "<Figure size 432x288 with 1 Axes>"
            ]
          },
          "metadata": {
            "tags": [],
            "needs_background": "light"
          }
        }
      ]
    },
    {
      "cell_type": "markdown",
      "metadata": {
        "id": "3lgu1c9Ngr9A"
      },
      "source": [
        "Question.11 (report your answer):\n",
        "\n",
        "\n",
        "```\n",
        "11.1) Explain what the above line plot, showing how many points the Knicks scored throughout the seasons, reveals to you (i.e. describe what you find out).\n",
        "```\n",
        "\n"
      ]
    },
    {
      "cell_type": "markdown",
      "metadata": {
        "id": "KASFotcGgdFB"
      },
      "source": [
        "This line plot shows several peaks and valleys, with the notable sections: \n",
        "* a growth trend from 1950 (most likely when data starting being recorded) to 1970, date of the first major peak (over 11000 points); \n",
        "* then a descent followed by a series of lower peak until around 1995, when there is a major fall (towards 6000 points before 2000);\n",
        "* Re-increase after year 2000 followed by a valley that ends with another fall around the year 2010."
      ]
    },
    {
      "cell_type": "markdown",
      "metadata": {
        "id": "9y4WcUCygx9-"
      },
      "source": [
        "\n",
        "\n",
        "```\n",
        "11.2) Describe what the above bar plot reveals to you about the franchises with the most games played.\n",
        "```\n",
        "\n"
      ]
    },
    {
      "cell_type": "markdown",
      "metadata": {
        "id": "HJkeogLAiHpm"
      },
      "source": [
        "The bar chart shows that the Lakers are slightly ahead of the Celtics but just by a very smal margine, on one hand. Furthermore, if we consider a benchmark of 5000 points, six other teams are above it. Then score drops for the last two teams (Wizards, Spurs) in the top 10."
      ]
    },
    {
      "cell_type": "markdown",
      "metadata": {
        "id": "QTz-lybKg15X"
      },
      "source": [
        "\n",
        "\n",
        "```\n",
        "11.3) In 2013, the Miami Heat won the championship. Create a pie plot showing the count of their wins and losses during that season. (First, define a criterion to include only the Heat’s games from 2013. Then, create a plot in the same way as you’ve seen above).\n",
        "```\n",
        "\n"
      ]
    },
    {
      "cell_type": "code",
      "metadata": {
        "colab": {
          "base_uri": "https://localhost:8080/",
          "height": 266
        },
        "id": "0hHXcKqElEVE",
        "outputId": "59b3de73-c034-4002-c10b-f6ef8976caca"
      },
      "source": [
        "# Pie plot \n",
        "# where we first define a criterion to include only the Heat’s games from 2013;\n",
        "# Then, we counts the game results and finally plot it all with a kind 'pie'\n",
        "nba[(nba[\"fran_id\"] == \"Heat\") & (nba[\"year_id\"] == 2013)][\"game_result\"].value_counts().plot(kind=\"pie\")"
      ],
      "execution_count": 113,
      "outputs": [
        {
          "output_type": "execute_result",
          "data": {
            "text/plain": [
              "<matplotlib.axes._subplots.AxesSubplot at 0x7f490a8aa910>"
            ]
          },
          "metadata": {
            "tags": []
          },
          "execution_count": 113
        },
        {
          "output_type": "display_data",
          "data": {
            "image/png": "[encoded data removed]",
            "text/plain": [
              "<Figure size 432x288 with 1 Axes>"
            ]
          },
          "metadata": {
            "tags": []
          }
        }
      ]
    },
    {
      "cell_type": "markdown",
      "metadata": {
        "id": "KwjTA-xpk3Lf"
      },
      "source": [
        ""
      ]
    },
    {
      "cell_type": "code",
      "metadata": {
        "id": "8XlAeruAeOdB"
      },
      "source": [
        ""
      ],
      "execution_count": null,
      "outputs": []
    },
    {
      "cell_type": "markdown",
      "metadata": {
        "id": "_NC9SmZfg9v7"
      },
      "source": [
        "#### References:"
      ]
    },
    {
      "cell_type": "markdown",
      "metadata": {
        "id": "dui9a8H7g-NV"
      },
      "source": [
        "* Pandas Docs: https://pandas.pydata.org/pandas-docs/stable/index.html\n",
        "* Download Python: https://www.python.org/downloads/\n",
        "How to install pip: https://www.liquidweb.com/kb/install-pip-windows/\n",
        "* Jupyter Notebook: https://realpython.com/jupyter-notebook-introduction/\n",
        "* Install Pandas Python: https://pandas.pydata.org/pandas-docs/stable/getting_started/install.html\n",
        "* Install matplotlib: https://matplotlib.org/users/installing.html#installing-from-source\n",
        "* Visualisation with Pandas: https://pandas.pydata.org/pandasdocs/stable/user_guide/visualization.html\n",
        "* Tutorial inspiration (Real Python): https://realpython.com/pandas-python-explore-dataset/\n",
        "* Data Source: https://fivethirtyeight.com/\n",
        "* The raw data: https://raw.githubusercontent.com/fivethirtyeight/data/master/nba-elo/nbaallelo.csv\n",
        "* NBA Data Analysis Using Python & Machine Learning: https://randerson112358.medium.com/nba-data-analysis-exploration-9293f311e0e8"
      ]
    }
  ]
}